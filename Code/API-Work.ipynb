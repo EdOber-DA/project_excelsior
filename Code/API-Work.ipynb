{
 "cells": [
  {
   "cell_type": "code",
   "execution_count": null,
   "metadata": {},
   "outputs": [],
   "source": [
    "import praw\n",
    "from datetime import datetime\n",
    "import pandas as pd\n",
    "import requests\n",
    "import time\n",
    "comment_counts = {}\n",
    "#2/2/20202 00:00:00 1612242000\n",
    "current_time = 1612242000\n",
    "#12/1/20202 00:00:00 1606798800\n",
    "while(current_time > 1606798800):\n",
    "    #Moving the query back by 5 mintues\n",
    "    url = f'https://api.pushshift.io/reddit/comment/search/?after={current_time-300}&before={current_time}&subreddit=wallstreetbets&q=gme&size=100&score=%3E5'\n",
    "    try:\n",
    "        res = requests.get(url).json()\n",
    "        date = datetime.fromtimestamp(res['data'][0]['created_utc']).strftime('%m/%d/%Y %H:00')\n",
    "        time.sleep(0.3)\n",
    "    except:\n",
    "        current_time -= 300\n",
    "        continue\n",
    "    if date in comment_counts:\n",
    "        comment_counts[date] += len(res['data'])\n",
    "    else:\n",
    "        comment_counts[date] = len(res['data'])\n",
    "    print(date)\n",
    "    current_time -= 300\n",
    "\n",
    "\n",
    "dates = []\n",
    "comments = []\n",
    "for k,v in comment_counts.items():\n",
    "    dates.append(k)\n",
    "    comments.append(v) \n",
    "#Create a dataframe from the data taken from reddit \n",
    "df = pd.DataFrame({'Date': dates, '# of Comments': comments})\n",
    "df.to_csv('12_1_to_2_2_hourly.csv')\n",
    "\n"
   ]
  },
  {
   "cell_type": "code",
   "execution_count": null,
   "metadata": {},
   "outputs": [],
   "source": [
    "##################################################################################################"
   ]
  },
  {
   "cell_type": "code",
   "execution_count": null,
   "metadata": {},
   "outputs": [],
   "source": [
    "from config import alphavantage_key as api_key\n",
    "import requests\n",
    "#This bring in the hourly trade data\n",
    "for i in range(1,6):\n",
    "    url = f'https://www.alphavantage.co/query?function=TIME_SERIES_INTRADAY_EXTENDED&symbol=GME&interval=60min&slice=year1month{i}&apikey={api_key}'\n",
    "    #this only returns a CSV\n",
    "    res = requests.get(url)\n",
    "    #download the returned CSV \n",
    "    open(f'../Data/{i}_months_before_.csv', 'wb').write(res.content)"
   ]
  },
  {
   "cell_type": "code",
   "execution_count": null,
   "metadata": {},
   "outputs": [],
   "source": [
    "##################################################################################################"
   ]
  },
  {
   "cell_type": "code",
   "execution_count": null,
   "metadata": {},
   "outputs": [],
   "source": [
    "#Did not use this information -- too limited in the data we received, only 100 submissions returned\n",
    "#Working with the python reddit api wrapper\n",
    "import praw\n",
    "from config import client_id, secret\n",
    "from datetime import datetime\n",
    "import pandas as pd\n",
    "\n",
    "reddit = praw.Reddit(\n",
    "    client_id=client_id,\n",
    "    client_secret=secret,\n",
    "    user_agent=\"ckioski\"\n",
    ")\n",
    "subreddit = reddit.subreddit('wallstreetbets')\n",
    "comment_counts = {}\n",
    "for submission in subreddit.search(query='GME',sort='comments',time_filter='year',limit=None):\n",
    "    print(1)\n",
    "    #unix time for Feb 3rd as 12:00 am.  We are only looking at posts from before that \n",
    "    if submission.created_utc > 1612328400:\n",
    "        continue\n",
    "    submission.comments.replace_more(limit=0)\n",
    "    for comment in submission.comments.list():\n",
    "        try:\n",
    "            print(comment.created_utc)\n",
    "            if 'GME' in comment.body:\n",
    "                date = datetime.fromtimestamp(comment.created_utc).strftime('%m/%d/%Y %H:00')\n",
    "                if date in comment_counts:\n",
    "                    comment_counts[date] += 1\n",
    "                else:\n",
    "                    comment_counts[date] = 1\n",
    "        except:\n",
    "            pass\n",
    "dates = []\n",
    "comments = []\n",
    "for k,v in comment_counts.items():\n",
    "    dates.append(k)\n",
    "    comments.append(v) \n",
    "#Create a dataframe from the data taken from reddit \n",
    "df = pd.DataFrame({'Date': dates, '# of Comments': comments})\n",
    "df.to_csv('Data/comment_results.csv')\n",
    "\n",
    "\n"
   ]
  }
 ],
 "metadata": {
  "kernelspec": {
   "display_name": "Python 3",
   "language": "python",
   "name": "python3"
  },
  "language_info": {
   "codemirror_mode": {
    "name": "ipython",
    "version": 3
   },
   "file_extension": ".py",
   "mimetype": "text/x-python",
   "name": "python",
   "nbconvert_exporter": "python",
   "pygments_lexer": "ipython3",
   "version": "3.8.3"
  }
 },
 "nbformat": 4,
 "nbformat_minor": 4
}
