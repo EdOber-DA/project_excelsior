{
 "cells": [
  {
   "cell_type": "code",
   "execution_count": 3,
   "metadata": {},
   "outputs": [],
   "source": [
    "import pandas as pd\n"
   ]
  },
  {
   "cell_type": "code",
   "execution_count": 4,
   "metadata": {},
   "outputs": [],
   "source": [
    "df = pd.read_csv('../Data/Clean Data_with new comments.csv')"
   ]
  },
  {
   "cell_type": "code",
   "execution_count": 5,
   "metadata": {},
   "outputs": [
    {
     "data": {
      "text/html": [
       "<div>\n",
       "<style scoped>\n",
       "    .dataframe tbody tr th:only-of-type {\n",
       "        vertical-align: middle;\n",
       "    }\n",
       "\n",
       "    .dataframe tbody tr th {\n",
       "        vertical-align: top;\n",
       "    }\n",
       "\n",
       "    .dataframe thead th {\n",
       "        text-align: right;\n",
       "    }\n",
       "</style>\n",
       "<table border=\"1\" class=\"dataframe\">\n",
       "  <thead>\n",
       "    <tr style=\"text-align: right;\">\n",
       "      <th></th>\n",
       "      <th>time</th>\n",
       "      <th>open</th>\n",
       "      <th>high</th>\n",
       "      <th>low</th>\n",
       "      <th>close</th>\n",
       "      <th>volume</th>\n",
       "      <th># of Comments (Hourly)</th>\n",
       "    </tr>\n",
       "  </thead>\n",
       "  <tbody>\n",
       "    <tr>\n",
       "      <th>0</th>\n",
       "      <td>2/2/21 20:00</td>\n",
       "      <td>90.0000</td>\n",
       "      <td>90.5000</td>\n",
       "      <td>85.00</td>\n",
       "      <td>85.20</td>\n",
       "      <td>288108</td>\n",
       "      <td>459.0</td>\n",
       "    </tr>\n",
       "    <tr>\n",
       "      <th>1</th>\n",
       "      <td>2/2/21 19:00</td>\n",
       "      <td>92.0000</td>\n",
       "      <td>94.0000</td>\n",
       "      <td>88.00</td>\n",
       "      <td>90.00</td>\n",
       "      <td>232127</td>\n",
       "      <td>483.0</td>\n",
       "    </tr>\n",
       "    <tr>\n",
       "      <th>2</th>\n",
       "      <td>2/2/21 18:00</td>\n",
       "      <td>88.8200</td>\n",
       "      <td>96.0000</td>\n",
       "      <td>86.01</td>\n",
       "      <td>92.00</td>\n",
       "      <td>476352</td>\n",
       "      <td>500.0</td>\n",
       "    </tr>\n",
       "    <tr>\n",
       "      <th>3</th>\n",
       "      <td>2/2/21 17:00</td>\n",
       "      <td>90.7600</td>\n",
       "      <td>93.8900</td>\n",
       "      <td>85.33</td>\n",
       "      <td>88.78</td>\n",
       "      <td>843580</td>\n",
       "      <td>500.0</td>\n",
       "    </tr>\n",
       "    <tr>\n",
       "      <th>4</th>\n",
       "      <td>2/2/21 16:00</td>\n",
       "      <td>99.8561</td>\n",
       "      <td>101.9599</td>\n",
       "      <td>88.00</td>\n",
       "      <td>90.47</td>\n",
       "      <td>5582379</td>\n",
       "      <td>500.0</td>\n",
       "    </tr>\n",
       "  </tbody>\n",
       "</table>\n",
       "</div>"
      ],
      "text/plain": [
       "           time     open      high    low  close   volume  \\\n",
       "0  2/2/21 20:00  90.0000   90.5000  85.00  85.20   288108   \n",
       "1  2/2/21 19:00  92.0000   94.0000  88.00  90.00   232127   \n",
       "2  2/2/21 18:00  88.8200   96.0000  86.01  92.00   476352   \n",
       "3  2/2/21 17:00  90.7600   93.8900  85.33  88.78   843580   \n",
       "4  2/2/21 16:00  99.8561  101.9599  88.00  90.47  5582379   \n",
       "\n",
       "   # of Comments (Hourly)  \n",
       "0                   459.0  \n",
       "1                   483.0  \n",
       "2                   500.0  \n",
       "3                   500.0  \n",
       "4                   500.0  "
      ]
     },
     "execution_count": 5,
     "metadata": {},
     "output_type": "execute_result"
    }
   ],
   "source": [
    "df.head()"
   ]
  },
  {
   "cell_type": "code",
   "execution_count": 41,
   "metadata": {},
   "outputs": [
    {
     "name": "stderr",
     "output_type": "stream",
     "text": [
      "<ipython-input-41-d944b80336c6>:2: SettingWithCopyWarning: \n",
      "A value is trying to be set on a copy of a slice from a DataFrame.\n",
      "Try using .loc[row_indexer,col_indexer] = value instead\n",
      "\n",
      "See the caveats in the documentation: https://pandas.pydata.org/pandas-docs/stable/user_guide/indexing.html#returning-a-view-versus-a-copy\n",
      "  cleaned_df['O/C Change'] = abs(df['close']- df['open'])\n",
      "<ipython-input-41-d944b80336c6>:4: SettingWithCopyWarning: \n",
      "A value is trying to be set on a copy of a slice from a DataFrame.\n",
      "Try using .loc[row_indexer,col_indexer] = value instead\n",
      "\n",
      "See the caveats in the documentation: https://pandas.pydata.org/pandas-docs/stable/user_guide/indexing.html#returning-a-view-versus-a-copy\n",
      "  cleaned_df['Day'] = days\n"
     ]
    },
    {
     "data": {
      "text/plain": [
       "Day\n",
       "1/28    8000.0\n",
       "1/29    7986.0\n",
       "2/1     7796.0\n",
       "2/2     7636.0\n",
       "1/14    5431.0\n",
       "1/15    4936.0\n",
       "1/22    4918.0\n",
       "1/27    4898.0\n",
       "1/13    3594.0\n",
       "1/21    3174.0\n",
       "1/19    3140.0\n",
       "1/20    2259.0\n",
       "12/8     905.0\n",
       "1/11     536.0\n",
       "1/26     433.0\n",
       "Name: # of Comments (Hourly), dtype: float64"
      ]
     },
     "execution_count": 41,
     "metadata": {},
     "output_type": "execute_result"
    }
   ],
   "source": [
    "cleaned_df = df[['time','# of Comments (Hourly)']]\n",
    "cleaned_df['O/C Change'] = abs(df['close']- df['open'])\n",
    "days = ['/'.join(t.split(' ')[0].split('/')[0:2]) for t in cleaned_df['time']]\n",
    "cleaned_df['Day'] = days\n",
    "day_num_comments = cleaned_df.groupby(cleaned_df['Day'])\n",
    "comments_per_day = day_num_comments['# of Comments (Hourly)'].sum().sort_values(ascending=False)\n",
    "#Series of comments per day\n",
    "comments_per_day.head(15)"
   ]
  },
  {
   "cell_type": "code",
   "execution_count": null,
   "metadata": {},
   "outputs": [],
   "source": []
  },
  {
   "cell_type": "code",
   "execution_count": null,
   "metadata": {},
   "outputs": [],
   "source": []
  },
  {
   "cell_type": "code",
   "execution_count": null,
   "metadata": {},
   "outputs": [],
   "source": []
  },
  {
   "cell_type": "code",
   "execution_count": null,
   "metadata": {},
   "outputs": [],
   "source": []
  }
 ],
 "metadata": {
  "kernelspec": {
   "display_name": "Python 3",
   "language": "python",
   "name": "python3"
  },
  "language_info": {
   "codemirror_mode": {
    "name": "ipython",
    "version": 3
   },
   "file_extension": ".py",
   "mimetype": "text/x-python",
   "name": "python",
   "nbconvert_exporter": "python",
   "pygments_lexer": "ipython3",
   "version": "3.8.3"
  }
 },
 "nbformat": 4,
 "nbformat_minor": 4
}
