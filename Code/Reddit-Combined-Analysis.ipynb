{
 "cells": [
  {
   "cell_type": "code",
   "execution_count": 1,
   "metadata": {},
   "outputs": [],
   "source": [
    "##### Read cleaned combined data \n",
    "# Dependencies\n",
    "\n",
    "import numpy as np\n",
    "import pandas as pd\n",
    "\n",
    "import scipy.stats as st\n",
    "from scipy.stats import linregress\n",
    "\n",
    "from matplotlib import pyplot as plt\n",
    "\n",
    "from random import seed\n",
    "from random import randint\n",
    "\n",
    "# Time calculations\n",
    "import time\n",
    "import datetime\n",
    "# from datetime import datetime\n",
    "from time import strftime\n",
    "\n",
    "# Printing and Output Controls\n",
    "import sys\n",
    "import os,csv"
   ]
  },
  {
   "cell_type": "code",
   "execution_count": 2,
   "metadata": {},
   "outputs": [],
   "source": [
    "# Set up output path \n",
    "Output_Data_Path_Folder = \"../Output\" \n",
    "Reddit_Data_Input_Path = \"../Data/Clean Data_with new comments-EOClean.csv\""
   ]
  },
  {
   "cell_type": "code",
   "execution_count": 3,
   "metadata": {},
   "outputs": [],
   "source": [
    "# read in the csv created in the WeatherPy section\n",
    "combined_data_df = pd.read_csv(Reddit_Data_Input_Path,dtype=\"object\", encoding=\"latin\")"
   ]
  },
  {
   "cell_type": "code",
   "execution_count": 4,
   "metadata": {},
   "outputs": [
    {
     "name": "stdout",
     "output_type": "stream",
     "text": [
      "Date                      1463\n",
      "Time                      1463\n",
      "open                      1463\n",
      "high                      1463\n",
      "low                       1463\n",
      "close                     1463\n",
      "volume                    1463\n",
      "# of Comments (Hourly)    1462\n",
      "time                      1463\n",
      "dtype: int64\n",
      "Date                      object\n",
      "Time                      object\n",
      "open                      object\n",
      "high                      object\n",
      "low                       object\n",
      "close                     object\n",
      "volume                    object\n",
      "# of Comments (Hourly)    object\n",
      "time                      object\n",
      "dtype: object\n"
     ]
    }
   ],
   "source": [
    "# Check data\n",
    "print(combined_data_df.count())\n",
    "print(combined_data_df.dtypes)"
   ]
  },
  {
   "cell_type": "code",
   "execution_count": 5,
   "metadata": {},
   "outputs": [],
   "source": [
    "# Fix data types and create Date_Object for plotting\n",
    "combined_data_df[['open','high','low','close','volume','# of Comments (Hourly)']] = combined_data_df[['open','high','low','close','volume','# of Comments (Hourly)']].astype(float)\n",
    "combined_data_df[\"Date_Object\"] = pd.to_datetime(combined_data_df[\"Date\"])"
   ]
  },
  {
   "cell_type": "code",
   "execution_count": 6,
   "metadata": {},
   "outputs": [
    {
     "name": "stdout",
     "output_type": "stream",
     "text": [
      "Date                              object\n",
      "Time                              object\n",
      "open                             float64\n",
      "high                             float64\n",
      "low                              float64\n",
      "close                            float64\n",
      "volume                           float64\n",
      "# of Comments (Hourly)           float64\n",
      "time                              object\n",
      "Date_Object               datetime64[ns]\n",
      "dtype: object\n"
     ]
    },
    {
     "data": {
      "text/html": [
       "<div>\n",
       "<style scoped>\n",
       "    .dataframe tbody tr th:only-of-type {\n",
       "        vertical-align: middle;\n",
       "    }\n",
       "\n",
       "    .dataframe tbody tr th {\n",
       "        vertical-align: top;\n",
       "    }\n",
       "\n",
       "    .dataframe thead th {\n",
       "        text-align: right;\n",
       "    }\n",
       "</style>\n",
       "<table border=\"1\" class=\"dataframe\">\n",
       "  <thead>\n",
       "    <tr style=\"text-align: right;\">\n",
       "      <th></th>\n",
       "      <th>Date</th>\n",
       "      <th>Time</th>\n",
       "      <th>open</th>\n",
       "      <th>high</th>\n",
       "      <th>low</th>\n",
       "      <th>close</th>\n",
       "      <th>volume</th>\n",
       "      <th># of Comments (Hourly)</th>\n",
       "      <th>time</th>\n",
       "      <th>Date_Object</th>\n",
       "    </tr>\n",
       "  </thead>\n",
       "  <tbody>\n",
       "    <tr>\n",
       "      <th>0</th>\n",
       "      <td>2/2/2021</td>\n",
       "      <td>20:00</td>\n",
       "      <td>90.0000</td>\n",
       "      <td>90.5000</td>\n",
       "      <td>85.00</td>\n",
       "      <td>85.20</td>\n",
       "      <td>288108.0</td>\n",
       "      <td>459.0</td>\n",
       "      <td>2/2/2021 20:00</td>\n",
       "      <td>2021-02-02</td>\n",
       "    </tr>\n",
       "    <tr>\n",
       "      <th>1</th>\n",
       "      <td>2/2/2021</td>\n",
       "      <td>19:00</td>\n",
       "      <td>92.0000</td>\n",
       "      <td>94.0000</td>\n",
       "      <td>88.00</td>\n",
       "      <td>90.00</td>\n",
       "      <td>232127.0</td>\n",
       "      <td>483.0</td>\n",
       "      <td>2/2/2021 19:00</td>\n",
       "      <td>2021-02-02</td>\n",
       "    </tr>\n",
       "    <tr>\n",
       "      <th>2</th>\n",
       "      <td>2/2/2021</td>\n",
       "      <td>18:00</td>\n",
       "      <td>88.8200</td>\n",
       "      <td>96.0000</td>\n",
       "      <td>86.01</td>\n",
       "      <td>92.00</td>\n",
       "      <td>476352.0</td>\n",
       "      <td>500.0</td>\n",
       "      <td>2/2/2021 18:00</td>\n",
       "      <td>2021-02-02</td>\n",
       "    </tr>\n",
       "    <tr>\n",
       "      <th>3</th>\n",
       "      <td>2/2/2021</td>\n",
       "      <td>17:00</td>\n",
       "      <td>90.7600</td>\n",
       "      <td>93.8900</td>\n",
       "      <td>85.33</td>\n",
       "      <td>88.78</td>\n",
       "      <td>843580.0</td>\n",
       "      <td>500.0</td>\n",
       "      <td>2/2/2021 17:00</td>\n",
       "      <td>2021-02-02</td>\n",
       "    </tr>\n",
       "    <tr>\n",
       "      <th>4</th>\n",
       "      <td>2/2/2021</td>\n",
       "      <td>16:00</td>\n",
       "      <td>99.8561</td>\n",
       "      <td>101.9599</td>\n",
       "      <td>88.00</td>\n",
       "      <td>90.47</td>\n",
       "      <td>5582379.0</td>\n",
       "      <td>500.0</td>\n",
       "      <td>2/2/2021 16:00</td>\n",
       "      <td>2021-02-02</td>\n",
       "    </tr>\n",
       "    <tr>\n",
       "      <th>...</th>\n",
       "      <td>...</td>\n",
       "      <td>...</td>\n",
       "      <td>...</td>\n",
       "      <td>...</td>\n",
       "      <td>...</td>\n",
       "      <td>...</td>\n",
       "      <td>...</td>\n",
       "      <td>...</td>\n",
       "      <td>...</td>\n",
       "      <td>...</td>\n",
       "    </tr>\n",
       "    <tr>\n",
       "      <th>1458</th>\n",
       "      <td>9/14/2020</td>\n",
       "      <td>09:00</td>\n",
       "      <td>6.8755</td>\n",
       "      <td>6.9800</td>\n",
       "      <td>6.52</td>\n",
       "      <td>6.80</td>\n",
       "      <td>181079.0</td>\n",
       "      <td>0.0</td>\n",
       "      <td>9/14/2020 09:00</td>\n",
       "      <td>2020-09-14</td>\n",
       "    </tr>\n",
       "    <tr>\n",
       "      <th>1459</th>\n",
       "      <td>9/14/2020</td>\n",
       "      <td>08:00</td>\n",
       "      <td>6.6500</td>\n",
       "      <td>6.9800</td>\n",
       "      <td>6.52</td>\n",
       "      <td>6.84</td>\n",
       "      <td>106580.0</td>\n",
       "      <td>0.0</td>\n",
       "      <td>9/14/2020 08:00</td>\n",
       "      <td>2020-09-14</td>\n",
       "    </tr>\n",
       "    <tr>\n",
       "      <th>1460</th>\n",
       "      <td>9/14/2020</td>\n",
       "      <td>07:00</td>\n",
       "      <td>6.5400</td>\n",
       "      <td>6.5400</td>\n",
       "      <td>6.54</td>\n",
       "      <td>6.54</td>\n",
       "      <td>149.0</td>\n",
       "      <td>0.0</td>\n",
       "      <td>9/14/2020 07:00</td>\n",
       "      <td>2020-09-14</td>\n",
       "    </tr>\n",
       "    <tr>\n",
       "      <th>1461</th>\n",
       "      <td>9/14/2020</td>\n",
       "      <td>06:00</td>\n",
       "      <td>6.5900</td>\n",
       "      <td>6.6000</td>\n",
       "      <td>6.58</td>\n",
       "      <td>6.60</td>\n",
       "      <td>8412.0</td>\n",
       "      <td>0.0</td>\n",
       "      <td>9/14/2020 06:00</td>\n",
       "      <td>2020-09-14</td>\n",
       "    </tr>\n",
       "    <tr>\n",
       "      <th>1462</th>\n",
       "      <td>9/14/2020</td>\n",
       "      <td>05:00</td>\n",
       "      <td>6.3600</td>\n",
       "      <td>6.6000</td>\n",
       "      <td>6.33</td>\n",
       "      <td>6.48</td>\n",
       "      <td>4379.0</td>\n",
       "      <td>0.0</td>\n",
       "      <td>9/14/2020 05:00</td>\n",
       "      <td>2020-09-14</td>\n",
       "    </tr>\n",
       "  </tbody>\n",
       "</table>\n",
       "<p>1463 rows × 10 columns</p>\n",
       "</div>"
      ],
      "text/plain": [
       "           Date   Time     open      high    low  close     volume  \\\n",
       "0      2/2/2021  20:00  90.0000   90.5000  85.00  85.20   288108.0   \n",
       "1      2/2/2021  19:00  92.0000   94.0000  88.00  90.00   232127.0   \n",
       "2      2/2/2021  18:00  88.8200   96.0000  86.01  92.00   476352.0   \n",
       "3      2/2/2021  17:00  90.7600   93.8900  85.33  88.78   843580.0   \n",
       "4      2/2/2021  16:00  99.8561  101.9599  88.00  90.47  5582379.0   \n",
       "...         ...    ...      ...       ...    ...    ...        ...   \n",
       "1458  9/14/2020  09:00   6.8755    6.9800   6.52   6.80   181079.0   \n",
       "1459  9/14/2020  08:00   6.6500    6.9800   6.52   6.84   106580.0   \n",
       "1460  9/14/2020  07:00   6.5400    6.5400   6.54   6.54      149.0   \n",
       "1461  9/14/2020  06:00   6.5900    6.6000   6.58   6.60     8412.0   \n",
       "1462  9/14/2020  05:00   6.3600    6.6000   6.33   6.48     4379.0   \n",
       "\n",
       "      # of Comments (Hourly)             time Date_Object  \n",
       "0                      459.0   2/2/2021 20:00  2021-02-02  \n",
       "1                      483.0   2/2/2021 19:00  2021-02-02  \n",
       "2                      500.0   2/2/2021 18:00  2021-02-02  \n",
       "3                      500.0   2/2/2021 17:00  2021-02-02  \n",
       "4                      500.0   2/2/2021 16:00  2021-02-02  \n",
       "...                      ...              ...         ...  \n",
       "1458                     0.0  9/14/2020 09:00  2020-09-14  \n",
       "1459                     0.0  9/14/2020 08:00  2020-09-14  \n",
       "1460                     0.0  9/14/2020 07:00  2020-09-14  \n",
       "1461                     0.0  9/14/2020 06:00  2020-09-14  \n",
       "1462                     0.0  9/14/2020 05:00  2020-09-14  \n",
       "\n",
       "[1463 rows x 10 columns]"
      ]
     },
     "execution_count": 6,
     "metadata": {},
     "output_type": "execute_result"
    }
   ],
   "source": [
    "# Check data again\n",
    "print(combined_data_df.dtypes)\n",
    "combined_data_df"
   ]
  },
  {
   "cell_type": "code",
   "execution_count": 7,
   "metadata": {},
   "outputs": [],
   "source": [
    "# Sort the data so it is ascending (otherwise plots \"backwards\", oldest data first)\n",
    "combined_data_df.sort_values(by=[\"Date_Object\",\"Time\"],inplace=True)"
   ]
  },
  {
   "cell_type": "code",
   "execution_count": 8,
   "metadata": {},
   "outputs": [
    {
     "name": "stdout",
     "output_type": "stream",
     "text": [
      "Line graphs for GME Stock Price Close by Date\n",
      "\n",
      "\n"
     ]
    },
    {
     "data": {
      "image/png": "[encoded data removed]",
      "text/plain": [
       "<Figure size 432x288 with 1 Axes>"
      ]
     },
     "metadata": {
      "needs_background": "light"
     },
     "output_type": "display_data"
    }
   ],
   "source": [
    "print(f\"Line graphs for GME Stock Price Close by Date\\n\\n\") \n",
    "Stock_Data_Graph = combined_data_df.plot(x='Date_Object', y=\"close\", kind=\"line\",title=f\"GME Stock Closing Price by Day and Hour\")\n",
    "\n",
    "plt.ylabel(\"GME Closing Stock Price by Day and Hour\")\n",
    "plt.xlabel(\"Date\")\n",
    "# Write out to png file\n",
    "plt.savefig(os.path.join(Output_Data_Path_Folder,'GME_Combined_By_Date_Hour.png'))\n",
    "plt.show()"
   ]
  },
  {
   "cell_type": "code",
   "execution_count": 9,
   "metadata": {},
   "outputs": [
    {
     "name": "stdout",
     "output_type": "stream",
     "text": [
      "Line graphs for Reddit Message Volume by Date\n",
      "\n",
      "\n"
     ]
    },
    {
     "data": {
      "image/png": "[encoded data removed]",
      "text/plain": [
       "<Figure size 432x288 with 1 Axes>"
      ]
     },
     "metadata": {
      "needs_background": "light"
     },
     "output_type": "display_data"
    }
   ],
   "source": [
    "print(f\"Line graphs for Reddit Message Volume by Date\\n\\n\") \n",
    "Stock_Data_Graph = combined_data_df.plot(x='Date_Object', y=\"volume\", kind=\"line\",title=f\"Reddit Message Volume by Day and Hour\")\n",
    "\n",
    "plt.ylabel(\"Reddit Message Volume\")\n",
    "plt.xlabel(\"Date\")\n",
    "# Write out to png file\n",
    "plt.savefig(os.path.join(Output_Data_Path_Folder,'Reddit_Msg_Vol_By_Date_Hour.png'))\n",
    "plt.show()"
   ]
  },
  {
   "cell_type": "code",
   "execution_count": 10,
   "metadata": {},
   "outputs": [
    {
     "name": "stdout",
     "output_type": "stream",
     "text": [
      "Scatter Plot GME Stock Price Close by Message Volume\n",
      "\n",
      "\n"
     ]
    },
    {
     "data": {
      "image/png": "[encoded data removed]",
      "text/plain": [
       "<Figure size 432x288 with 1 Axes>"
      ]
     },
     "metadata": {
      "needs_background": "light"
     },
     "output_type": "display_data"
    }
   ],
   "source": [
    "print(f\"Scatter Plot GME Stock Price Close by Message Volume\\n\\n\") \n",
    "Stock_Data_Graph = combined_data_df.plot(x='# of Comments (Hourly)', y=\"close\", kind=\"scatter\",title=f\"GME Stock Closing Price by Message Volume\")\n",
    "\n",
    "plt.ylabel(\"GME Closing Stock Price by Day and Hour\")\n",
    "plt.xlabel(\"Message Volume\")\n",
    "# Write out to png file\n",
    "plt.savefig(os.path.join(Output_Data_Path_Folder,'GME_Combined_Close_vs_Msg_Vol_per_Hour.png'))\n",
    "plt.show()"
   ]
  }
 ],
 "metadata": {
  "kernelspec": {
   "display_name": "Python 3",
   "language": "python",
   "name": "python3"
  },
  "language_info": {
   "codemirror_mode": {
    "name": "ipython",
    "version": 3
   },
   "file_extension": ".py",
   "mimetype": "text/x-python",
   "name": "python",
   "nbconvert_exporter": "python",
   "pygments_lexer": "ipython3",
   "version": "3.6.10"
  }
 },
 "nbformat": 4,
 "nbformat_minor": 4
}
