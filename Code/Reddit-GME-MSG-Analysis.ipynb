{
 "cells": [
  {
   "cell_type": "code",
   "execution_count": 1,
   "metadata": {},
   "outputs": [],
   "source": [
    "##### VGME Stock Price Analysis Code\n",
    "# Dependencies\n",
    "\n",
    "import gmaps\n",
    "import numpy as np\n",
    "import pandas as pd\n",
    "\n",
    "import requests\n",
    "import json\n",
    "\n",
    "import scipy.stats as st\n",
    "from scipy.stats import linregress\n",
    "\n",
    "from matplotlib import pyplot as plt\n",
    "\n",
    "from pprint import pprint\n",
    "\n",
    "from random import seed\n",
    "from random import randint\n",
    "\n",
    "# Time calculations\n",
    "import time\n",
    "import datetime\n",
    "# from datetime import datetime\n",
    "from time import strftime\n",
    "\n",
    "# Printing and Output Controls\n",
    "import sys\n",
    "import os,csv"
   ]
  },
  {
   "cell_type": "code",
   "execution_count": 2,
   "metadata": {},
   "outputs": [],
   "source": [
    "# Set up output path \n",
    "Output_Data_Path_Folder = \"../Output\" \n",
    "Reddit_Data_Input_Path = \"../Data/reddit_data_with_tag_counts-2020-12-01_Forwardx.csv\"\n",
    "Stock_Data_Input_Path = \"../Data/stock_days_of_interest_df_CSV_Output.csv\""
   ]
  },
  {
   "cell_type": "code",
   "execution_count": 9,
   "metadata": {},
   "outputs": [],
   "source": [
    "# read in the csv created in the WeatherPy section\n",
    "stock_data_df = pd.read_csv(Stock_Data_Input_Path,dtype=\"object\", encoding=\"utf-8\")\n",
    "reddit_data_df = pd.read_csv(Reddit_Data_Input_Path,dtype=\"object\", encoding=\"utf-8\")"
   ]
  },
  {
   "cell_type": "code",
   "execution_count": 10,
   "metadata": {},
   "outputs": [
    {
     "name": "stdout",
     "output_type": "stream",
     "text": [
      "Date           object\n",
      "Open          float64\n",
      "High          float64\n",
      "Low           float64\n",
      "Close         float64\n",
      "Adj Close     float64\n",
      "Volume        float64\n",
      "Stock_Date     object\n",
      "Change        float64\n",
      "Abs_Change    float64\n",
      "dtype: object\n"
     ]
    },
    {
     "data": {
      "text/html": [
       "<div>\n",
       "<style scoped>\n",
       "    .dataframe tbody tr th:only-of-type {\n",
       "        vertical-align: middle;\n",
       "    }\n",
       "\n",
       "    .dataframe tbody tr th {\n",
       "        vertical-align: top;\n",
       "    }\n",
       "\n",
       "    .dataframe thead th {\n",
       "        text-align: right;\n",
       "    }\n",
       "</style>\n",
       "<table border=\"1\" class=\"dataframe\">\n",
       "  <thead>\n",
       "    <tr style=\"text-align: right;\">\n",
       "      <th></th>\n",
       "      <th>Date</th>\n",
       "      <th>Open</th>\n",
       "      <th>High</th>\n",
       "      <th>Low</th>\n",
       "      <th>Close</th>\n",
       "      <th>Adj Close</th>\n",
       "      <th>Volume</th>\n",
       "      <th>Stock_Date</th>\n",
       "      <th>Change</th>\n",
       "      <th>Abs_Change</th>\n",
       "    </tr>\n",
       "  </thead>\n",
       "  <tbody>\n",
       "    <tr>\n",
       "      <th>0</th>\n",
       "      <td>12/1/2020</td>\n",
       "      <td>17.110001</td>\n",
       "      <td>17.40</td>\n",
       "      <td>15.76</td>\n",
       "      <td>15.80</td>\n",
       "      <td>15.80</td>\n",
       "      <td>12666000.0</td>\n",
       "      <td>2020-12-01</td>\n",
       "      <td>-1.310001</td>\n",
       "      <td>1.310001</td>\n",
       "    </tr>\n",
       "    <tr>\n",
       "      <th>1</th>\n",
       "      <td>12/2/2020</td>\n",
       "      <td>15.700000</td>\n",
       "      <td>16.68</td>\n",
       "      <td>15.38</td>\n",
       "      <td>16.58</td>\n",
       "      <td>16.58</td>\n",
       "      <td>7883400.0</td>\n",
       "      <td>2020-12-02</td>\n",
       "      <td>0.880000</td>\n",
       "      <td>0.880000</td>\n",
       "    </tr>\n",
       "  </tbody>\n",
       "</table>\n",
       "</div>"
      ],
      "text/plain": [
       "        Date       Open   High    Low  Close  Adj Close      Volume  \\\n",
       "0  12/1/2020  17.110001  17.40  15.76  15.80      15.80  12666000.0   \n",
       "1  12/2/2020  15.700000  16.68  15.38  16.58      16.58   7883400.0   \n",
       "\n",
       "   Stock_Date    Change  Abs_Change  \n",
       "0  2020-12-01 -1.310001    1.310001  \n",
       "1  2020-12-02  0.880000    0.880000  "
      ]
     },
     "execution_count": 10,
     "metadata": {},
     "output_type": "execute_result"
    }
   ],
   "source": [
    "# Fix and Check Stock data\n",
    "# Fix data types\n",
    "stock_data_df[['Open','High','Low','Close','Adj Close','Volume','Change','Abs_Change']] = stock_data_df[['Open','High','Low','Close','Adj Close','Volume','Change','Abs_Change']].astype(float)\n",
    "print(stock_data_df.dtypes)\n",
    "stock_data_df.head(2)"
   ]
  },
  {
   "cell_type": "code",
   "execution_count": 19,
   "metadata": {},
   "outputs": [
    {
     "name": "stdout",
     "output_type": "stream",
     "text": [
      "title            object\n",
      "num_comments    float64\n",
      "Date Stamp       object\n",
      "Reddit_Total    float64\n",
      "tag_count        object\n",
      "Date             object\n",
      "dtype: object\n"
     ]
    },
    {
     "data": {
      "text/html": [
       "<div>\n",
       "<style scoped>\n",
       "    .dataframe tbody tr th:only-of-type {\n",
       "        vertical-align: middle;\n",
       "    }\n",
       "\n",
       "    .dataframe tbody tr th {\n",
       "        vertical-align: top;\n",
       "    }\n",
       "\n",
       "    .dataframe thead th {\n",
       "        text-align: right;\n",
       "    }\n",
       "</style>\n",
       "<table border=\"1\" class=\"dataframe\">\n",
       "  <thead>\n",
       "    <tr style=\"text-align: right;\">\n",
       "      <th></th>\n",
       "      <th>title</th>\n",
       "      <th>num_comments</th>\n",
       "      <th>Date Stamp</th>\n",
       "      <th>Reddit_Total</th>\n",
       "      <th>tag_count</th>\n",
       "      <th>Date</th>\n",
       "    </tr>\n",
       "  </thead>\n",
       "  <tbody>\n",
       "    <tr>\n",
       "      <th>0</th>\n",
       "      <td>your game stops here!!</td>\n",
       "      <td>0.0</td>\n",
       "      <td>1/31/2021 09:10</td>\n",
       "      <td>1.0</td>\n",
       "      <td>1</td>\n",
       "      <td>1/31/2021</td>\n",
       "    </tr>\n",
       "    <tr>\n",
       "      <th>1</th>\n",
       "      <td>beware of the tactic 2.0 ???§????gme amc????</td>\n",
       "      <td>0.0</td>\n",
       "      <td>1/31/2021 09:10</td>\n",
       "      <td>1.0</td>\n",
       "      <td>1</td>\n",
       "      <td>1/31/2021</td>\n",
       "    </tr>\n",
       "  </tbody>\n",
       "</table>\n",
       "</div>"
      ],
      "text/plain": [
       "                                          title  num_comments  \\\n",
       "0                        your game stops here!!           0.0   \n",
       "1  beware of the tactic 2.0 ???§????gme amc????           0.0   \n",
       "\n",
       "        Date Stamp  Reddit_Total tag_count       Date  \n",
       "0  1/31/2021 09:10           1.0         1  1/31/2021  \n",
       "1  1/31/2021 09:10           1.0         1  1/31/2021  "
      ]
     },
     "execution_count": 19,
     "metadata": {},
     "output_type": "execute_result"
    }
   ],
   "source": [
    "# Fix and Check Message data\n",
    "# Fix data types\n",
    "reddit_data_df[['num_comments','Reddit_Total']] = reddit_data_df[['num_comments','Reddit_Total']].astype(float)\n",
    "reddit_data_df = reddit_data_df.rename(columns = {'Date1':'Date'})\n",
    "print(reddit_data_df.dtypes)\n",
    "reddit_data_df.head(2)"
   ]
  },
  {
   "cell_type": "code",
   "execution_count": 20,
   "metadata": {},
   "outputs": [
    {
     "name": "stdout",
     "output_type": "stream",
     "text": [
      "           Reddit_Total\n",
      "Date                   \n",
      "1/1/2021         1914.0\n",
      "1/10/2021        1339.0\n",
      "1/11/2021        3753.0\n",
      "1/12/2021        1815.0\n",
      "1/13/2021       14878.0\n",
      "...                 ...\n",
      "12/5/2020        1060.0\n",
      "12/6/2020         698.0\n",
      "12/7/2020         844.0\n",
      "12/8/2020        9905.0\n",
      "12/9/2020        2754.0\n",
      "\n",
      "[62 rows x 1 columns]\n"
     ]
    }
   ],
   "source": [
    "reddit_daily_df = pd.DataFrame(reddit_data_df.groupby('Date')['Reddit_Total'].sum())\n",
    "print(reddit_daily_df)"
   ]
  },
  {
   "cell_type": "code",
   "execution_count": 29,
   "metadata": {},
   "outputs": [
    {
     "data": {
      "text/html": [
       "<div>\n",
       "<style scoped>\n",
       "    .dataframe tbody tr th:only-of-type {\n",
       "        vertical-align: middle;\n",
       "    }\n",
       "\n",
       "    .dataframe tbody tr th {\n",
       "        vertical-align: top;\n",
       "    }\n",
       "\n",
       "    .dataframe thead th {\n",
       "        text-align: right;\n",
       "    }\n",
       "</style>\n",
       "<table border=\"1\" class=\"dataframe\">\n",
       "  <thead>\n",
       "    <tr style=\"text-align: right;\">\n",
       "      <th></th>\n",
       "      <th>Date</th>\n",
       "      <th>Open</th>\n",
       "      <th>High</th>\n",
       "      <th>Low</th>\n",
       "      <th>Close</th>\n",
       "      <th>Adj Close</th>\n",
       "      <th>Volume</th>\n",
       "      <th>Stock_Date</th>\n",
       "      <th>Change</th>\n",
       "      <th>Abs_Change</th>\n",
       "      <th>Reddit_Total</th>\n",
       "    </tr>\n",
       "  </thead>\n",
       "  <tbody>\n",
       "    <tr>\n",
       "      <th>0</th>\n",
       "      <td>12/1/2020</td>\n",
       "      <td>17.110001</td>\n",
       "      <td>17.4</td>\n",
       "      <td>15.76</td>\n",
       "      <td>15.8</td>\n",
       "      <td>15.8</td>\n",
       "      <td>12666000.0</td>\n",
       "      <td>2020-12-01</td>\n",
       "      <td>-1.310001</td>\n",
       "      <td>1.310001</td>\n",
       "      <td>3071.0</td>\n",
       "    </tr>\n",
       "  </tbody>\n",
       "</table>\n",
       "</div>"
      ],
      "text/plain": [
       "        Date       Open  High    Low  Close  Adj Close      Volume  \\\n",
       "0  12/1/2020  17.110001  17.4  15.76   15.8       15.8  12666000.0   \n",
       "\n",
       "   Stock_Date    Change  Abs_Change  Reddit_Total  \n",
       "0  2020-12-01 -1.310001    1.310001        3071.0  "
      ]
     },
     "execution_count": 29,
     "metadata": {},
     "output_type": "execute_result"
    }
   ],
   "source": [
    "merge_GMEreddit_df = pd.merge(stock_data_df, reddit_daily_df, on=\"Date\")\n",
    "merge_GMEreddit_df.head(1)"
   ]
  },
  {
   "cell_type": "code",
   "execution_count": 30,
   "metadata": {},
   "outputs": [
    {
     "name": "stdout",
     "output_type": "stream",
     "text": [
      "Line graph for GME Stock Price by Date\n",
      "\n",
      "\n"
     ]
    },
    {
     "data": {
      "image/png": "[encoded data removed]",
      "text/plain": [
       "<Figure size 432x288 with 1 Axes>"
      ]
     },
     "metadata": {
      "needs_background": "light"
     },
     "output_type": "display_data"
    }
   ],
   "source": [
    "# Plot Stock information by Date\n",
    "print(f\"Line graph for GME Stock Price by Date\\n\\n\") \n",
    "Stock_Data_Graph = merge_GMEreddit_df.plot(x='Date', y=\"Close\", kind=\"line\",title=f\"GME Stock Price by Date\")\n",
    "\n",
    "# Write out to png file\n",
    "plt.savefig(os.path.join(Output_Data_Path_Folder,'Check_Combined_data_Stock_Price_By_Date.png'))\n",
    "plt.show()"
   ]
  },
  {
   "cell_type": "code",
   "execution_count": 31,
   "metadata": {},
   "outputs": [
    {
     "name": "stdout",
     "output_type": "stream",
     "text": [
      "Line graph for Reddit message volume by Date\n",
      "\n",
      "\n"
     ]
    },
    {
     "data": {
      "image/png": "[encoded data removed]",
      "text/plain": [
       "<Figure size 432x288 with 1 Axes>"
      ]
     },
     "metadata": {
      "needs_background": "light"
     },
     "output_type": "display_data"
    }
   ],
   "source": [
    "# Plot Message information by Date\n",
    "print(f\"Line graph for Reddit message volume by Date\\n\\n\") \n",
    "message_Data_Graph = merge_GMEreddit_df.plot(x='Date', y=\"Reddit_Total\", kind=\"line\",title=f\"reddit Messages by Date\")\n",
    "\n",
    "# Write out to png file\n",
    "plt.savefig(os.path.join(Output_Data_Path_Folder,'Check_Combined_data_Message_By_Date.png'))\n",
    "plt.show()"
   ]
  },
  {
   "cell_type": "code",
   "execution_count": 32,
   "metadata": {},
   "outputs": [],
   "source": [
    "# Create lags and differentials \n",
    "for i in range(0, len(merge_GMEreddit_df)):\n",
    "    merge_GMEreddit_df.loc[i, 'Plot_Date']     = datetime.datetime.strptime((merge_GMEreddit_df.loc[i,\"Date\"]),'%m/%d/%Y')\n",
    "        \n",
    "    if i > 0:\n",
    "        merge_GMEreddit_df.loc[i, 'Reddit_Total_1_Day_Ago'] = merge_GMEreddit_df.loc[i-1,'Reddit_Total']\n",
    "\n",
    "    if i > 1:\n",
    "        merge_GMEreddit_df.loc[i, 'Reddit_Total_2_Day_Ago'] = merge_GMEreddit_df.loc[i-2,'Reddit_Total']\n",
    "         \n",
    "    if i > 2:\n",
    "        merge_GMEreddit_df.loc[i, 'Reddit_Total_3_Day_Ago'] = merge_GMEreddit_df.loc[i-3,'Reddit_Total']\n"
   ]
  },
  {
   "cell_type": "code",
   "execution_count": 34,
   "metadata": {},
   "outputs": [
    {
     "data": {
      "text/html": [
       "<div>\n",
       "<style scoped>\n",
       "    .dataframe tbody tr th:only-of-type {\n",
       "        vertical-align: middle;\n",
       "    }\n",
       "\n",
       "    .dataframe tbody tr th {\n",
       "        vertical-align: top;\n",
       "    }\n",
       "\n",
       "    .dataframe thead th {\n",
       "        text-align: right;\n",
       "    }\n",
       "</style>\n",
       "<table border=\"1\" class=\"dataframe\">\n",
       "  <thead>\n",
       "    <tr style=\"text-align: right;\">\n",
       "      <th></th>\n",
       "      <th>Date</th>\n",
       "      <th>Open</th>\n",
       "      <th>High</th>\n",
       "      <th>Low</th>\n",
       "      <th>Close</th>\n",
       "      <th>Adj Close</th>\n",
       "      <th>Volume</th>\n",
       "      <th>Stock_Date</th>\n",
       "      <th>Change</th>\n",
       "      <th>Abs_Change</th>\n",
       "      <th>Reddit_Total</th>\n",
       "      <th>Plot_Date</th>\n",
       "      <th>Reddit_Total_1_Day_Ago</th>\n",
       "      <th>Reddit_Total_2_Day_Ago</th>\n",
       "      <th>Reddit_Total_3_Day_Ago</th>\n",
       "    </tr>\n",
       "  </thead>\n",
       "  <tbody>\n",
       "    <tr>\n",
       "      <th>0</th>\n",
       "      <td>12/1/2020</td>\n",
       "      <td>17.110001</td>\n",
       "      <td>17.40</td>\n",
       "      <td>15.76</td>\n",
       "      <td>15.80</td>\n",
       "      <td>15.80</td>\n",
       "      <td>12666000.0</td>\n",
       "      <td>2020-12-01</td>\n",
       "      <td>-1.310001</td>\n",
       "      <td>1.310001</td>\n",
       "      <td>3071.0</td>\n",
       "      <td>2020-12-01</td>\n",
       "      <td>NaN</td>\n",
       "      <td>NaN</td>\n",
       "      <td>NaN</td>\n",
       "    </tr>\n",
       "    <tr>\n",
       "      <th>1</th>\n",
       "      <td>12/2/2020</td>\n",
       "      <td>15.700000</td>\n",
       "      <td>16.68</td>\n",
       "      <td>15.38</td>\n",
       "      <td>16.58</td>\n",
       "      <td>16.58</td>\n",
       "      <td>7883400.0</td>\n",
       "      <td>2020-12-02</td>\n",
       "      <td>0.880000</td>\n",
       "      <td>0.880000</td>\n",
       "      <td>1709.0</td>\n",
       "      <td>2020-12-02</td>\n",
       "      <td>3071.0</td>\n",
       "      <td>NaN</td>\n",
       "      <td>NaN</td>\n",
       "    </tr>\n",
       "  </tbody>\n",
       "</table>\n",
       "</div>"
      ],
      "text/plain": [
       "        Date       Open   High    Low  Close  Adj Close      Volume  \\\n",
       "0  12/1/2020  17.110001  17.40  15.76  15.80      15.80  12666000.0   \n",
       "1  12/2/2020  15.700000  16.68  15.38  16.58      16.58   7883400.0   \n",
       "\n",
       "   Stock_Date    Change  Abs_Change  Reddit_Total  Plot_Date  \\\n",
       "0  2020-12-01 -1.310001    1.310001        3071.0 2020-12-01   \n",
       "1  2020-12-02  0.880000    0.880000        1709.0 2020-12-02   \n",
       "\n",
       "   Reddit_Total_1_Day_Ago  Reddit_Total_2_Day_Ago  Reddit_Total_3_Day_Ago  \n",
       "0                     NaN                     NaN                     NaN  \n",
       "1                  3071.0                     NaN                     NaN  "
      ]
     },
     "execution_count": 34,
     "metadata": {},
     "output_type": "execute_result"
    }
   ],
   "source": [
    "merge_GMEreddit_df.head(2)"
   ]
  },
  {
   "cell_type": "code",
   "execution_count": 35,
   "metadata": {},
   "outputs": [
    {
     "name": "stdout",
     "output_type": "stream",
     "text": [
      "Scatter Plot for GME Stock Abs Change versus Reddit Messages (Same Day)\n",
      "\n",
      "\n"
     ]
    },
    {
     "data": {
      "image/png": "[encoded data removed]",
      "text/plain": [
       "<Figure size 432x288 with 1 Axes>"
      ]
     },
     "metadata": {
      "needs_background": "light"
     },
     "output_type": "display_data"
    }
   ],
   "source": [
    "# Plot Stock information by Date\n",
    "print(f\"Scatter Plot for GME Stock Abs Change versus Reddit Messages (Same Day)\\n\\n\") \n",
    "Message_0_Graph = merge_GMEreddit_df.plot(x='Reddit_Total', y=\"Abs_Change\", kind=\"scatter\",title=f\"Scatter Plot for GME Stock Abs Change versus Reddit Messages\\n (Same Day)\")\n",
    "\n",
    "# Write out to png file\n",
    "plt.savefig(os.path.join(Output_Data_Path_Folder,'GME_Abs_versus_Same_Day_Reddit.png'))\n",
    "plt.show()"
   ]
  },
  {
   "cell_type": "code",
   "execution_count": 37,
   "metadata": {},
   "outputs": [
    {
     "name": "stdout",
     "output_type": "stream",
     "text": [
      "Scatter Plot for GME Stock Abs Change versus Reddit Messages (Day -1)\n",
      "\n",
      "\n"
     ]
    },
    {
     "data": {
      "image/png": "[encoded data removed]",
      "text/plain": [
       "<Figure size 432x288 with 1 Axes>"
      ]
     },
     "metadata": {
      "needs_background": "light"
     },
     "output_type": "display_data"
    }
   ],
   "source": [
    "# Plot Stock information by Date\n",
    "print(f\"Scatter Plot for GME Stock Abs Change versus Reddit Messages (Day -1)\\n\\n\") \n",
    "Message_1_Graph = merge_GMEreddit_df.plot(x='Reddit_Total_1_Day_Ago', y=\"Abs_Change\", kind=\"scatter\",title=f\"Scatter Plot for GME Stock Abs Change versus Reddit Messages\\n (Day -1)\")\n",
    "\n",
    "# Write out to png file\n",
    "plt.savefig(os.path.join(Output_Data_Path_Folder,'GME_Abs_versus_Same_Day_1_Reddit.png'))\n",
    "plt.show()"
   ]
  },
  {
   "cell_type": "code",
   "execution_count": 39,
   "metadata": {},
   "outputs": [
    {
     "name": "stdout",
     "output_type": "stream",
     "text": [
      "Scatter Plot for GME Stock Abs Change versus Reddit Messages (Day -2)\n",
      "\n",
      "\n"
     ]
    },
    {
     "data": {
      "image/png": "[encoded data removed]",
      "text/plain": [
       "<Figure size 432x288 with 1 Axes>"
      ]
     },
     "metadata": {
      "needs_background": "light"
     },
     "output_type": "display_data"
    }
   ],
   "source": [
    "# Plot Stock information by Date\n",
    "print(f\"Scatter Plot for GME Stock Abs Change versus Reddit Messages (Day -2)\\n\\n\") \n",
    "Message_2_Graph = merge_GMEreddit_df.plot(x='Reddit_Total_2_Day_Ago', y=\"Abs_Change\", kind=\"scatter\",title=f\"Scatter Plot for GME Stock Abs Change versus Reddit Messages\\n (Day -2)\")\n",
    "\n",
    "# Write out to png file\n",
    "plt.savefig(os.path.join(Output_Data_Path_Folder,'GME_Abs_versus_Same_Day_2_Reddit.png'))\n",
    "plt.show()"
   ]
  },
  {
   "cell_type": "code",
   "execution_count": 40,
   "metadata": {},
   "outputs": [
    {
     "name": "stdout",
     "output_type": "stream",
     "text": [
      "Scatter Plot for GME Stock Abs Change versus Reddit Messages (Day -3)\n",
      "\n",
      "\n"
     ]
    },
    {
     "data": {
      "image/png": "[encoded data removed]",
      "text/plain": [
       "<Figure size 432x288 with 1 Axes>"
      ]
     },
     "metadata": {
      "needs_background": "light"
     },
     "output_type": "display_data"
    }
   ],
   "source": [
    "# Plot Stock information by Date\n",
    "print(f\"Scatter Plot for GME Stock Abs Change versus Reddit Messages (Day -3)\\n\\n\") \n",
    "Message_3_Graph = merge_GMEreddit_df.plot(x='Reddit_Total_3_Day_Ago', y=\"Abs_Change\", kind=\"scatter\",title=f\"Scatter Plot for GME Stock Abs Change versus Reddit Messages\\n (Day -3)\")\n",
    "\n",
    "# Write out to png file\n",
    "plt.savefig(os.path.join(Output_Data_Path_Folder,'GME_Abs_versus_Same_Day_3_Reddit.png'))\n",
    "plt.show()"
   ]
  },
  {
   "cell_type": "code",
   "execution_count": null,
   "metadata": {},
   "outputs": [],
   "source": []
  }
 ],
 "metadata": {
  "kernelspec": {
   "display_name": "Python 3",
   "language": "python",
   "name": "python3"
  },
  "language_info": {
   "codemirror_mode": {
    "name": "ipython",
    "version": 3
   },
   "file_extension": ".py",
   "mimetype": "text/x-python",
   "name": "python",
   "nbconvert_exporter": "python",
   "pygments_lexer": "ipython3",
   "version": "3.6.10"
  }
 },
 "nbformat": 4,
 "nbformat_minor": 4
}
