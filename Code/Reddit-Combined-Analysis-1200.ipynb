{
 "cells": [
  {
   "cell_type": "code",
   "execution_count": 16,
   "metadata": {},
   "outputs": [],
   "source": [
    "##### Read cleaned combined data \n",
    "###### 1200 Version\n",
    "# Dependencies\n",
    "\n",
    "import numpy as np\n",
    "import pandas as pd\n",
    "\n",
    "import scipy.stats as st\n",
    "from scipy.stats import linregress\n",
    "\n",
    "from matplotlib import pyplot as plt\n",
    "\n",
    "from random import seed\n",
    "from random import randint\n",
    "\n",
    "# Time calculations\n",
    "import time\n",
    "import datetime\n",
    "# from datetime import datetime\n",
    "from time import strftime\n",
    "\n",
    "# Printing and Output Controls\n",
    "import sys\n",
    "import os,csv\n",
    "\n",
    "Output_Data_Path_Folder = \"../Output\" "
   ]
  },
  {
   "cell_type": "code",
   "execution_count": 2,
   "metadata": {},
   "outputs": [],
   "source": [
    "stock_df = pd.read_csv('../Data/Combined GME ALL 12_1_2_2.csv')\n",
    "comment_df = pd.read_csv('../Data/12_1_to_2_2_hourly.csv')\n",
    "#days = [v.split()[0] for i, v in comment_df['Date'].items()]\n",
    "#times =[v.split()[1] for i, v in comment_df['Date'].items()]\n",
    "#comment_df['Date']= days\n",
    "#comment_df['Time']= times\n",
    "stock_df = stock_df.rename(columns={'time':'Date'})\n",
    "stock_df['Date'] = [datetime.datetime.strptime(i, '%m/%d/%Y %H:00').strftime('%m/%d/%Y %H:00')for i in stock_df['Date']]\n",
    "comment_df['Date'] = [datetime.datetime.strptime(i, '%m/%d/%Y %H:00').strftime('%m/%d/%Y %H:00')for i in comment_df['Date']]\n",
    "comment_df = comment_df[['Date','# of Comments']]"
   ]
  },
  {
   "cell_type": "code",
   "execution_count": 3,
   "metadata": {},
   "outputs": [],
   "source": [
    "merged_df = pd.merge(stock_df,comment_df,how='outer',on='Date')\n",
    "clean_df = merged_df[merged_df['open'].notna()]\n",
    "clean_df = clean_df.fillna(0)"
   ]
  },
  {
   "cell_type": "code",
   "execution_count": 4,
   "metadata": {},
   "outputs": [
    {
     "data": {
      "text/html": [
       "<div>\n",
       "<style scoped>\n",
       "    .dataframe tbody tr th:only-of-type {\n",
       "        vertical-align: middle;\n",
       "    }\n",
       "\n",
       "    .dataframe tbody tr th {\n",
       "        vertical-align: top;\n",
       "    }\n",
       "\n",
       "    .dataframe thead th {\n",
       "        text-align: right;\n",
       "    }\n",
       "</style>\n",
       "<table border=\"1\" class=\"dataframe\">\n",
       "  <thead>\n",
       "    <tr style=\"text-align: right;\">\n",
       "      <th></th>\n",
       "      <th>Date</th>\n",
       "      <th>open</th>\n",
       "      <th>high</th>\n",
       "      <th>low</th>\n",
       "      <th>close</th>\n",
       "      <th>volume</th>\n",
       "      <th># of Comments</th>\n",
       "    </tr>\n",
       "  </thead>\n",
       "  <tbody>\n",
       "    <tr>\n",
       "      <th>0</th>\n",
       "      <td>02/01/2021 20:00</td>\n",
       "      <td>186.65</td>\n",
       "      <td>198.99</td>\n",
       "      <td>186.65</td>\n",
       "      <td>189.52</td>\n",
       "      <td>398808.0</td>\n",
       "      <td>533.0</td>\n",
       "    </tr>\n",
       "  </tbody>\n",
       "</table>\n",
       "</div>"
      ],
      "text/plain": [
       "               Date    open    high     low   close    volume  # of Comments\n",
       "0  02/01/2021 20:00  186.65  198.99  186.65  189.52  398808.0          533.0"
      ]
     },
     "execution_count": 4,
     "metadata": {},
     "output_type": "execute_result"
    }
   ],
   "source": [
    "clean_df.head(1)"
   ]
  },
  {
   "cell_type": "code",
   "execution_count": 3,
   "metadata": {},
   "outputs": [],
   "source": [
    "# Set up output path \n",
    "# Output_Data_Path_Folder = \"../Output\" \n",
    "# Reddit_Data_Input_Path = \"../Data/Clean Data_with new comments-EOClean.csv\""
   ]
  },
  {
   "cell_type": "code",
   "execution_count": 4,
   "metadata": {},
   "outputs": [],
   "source": [
    "# read in the csv created in the WeatherPy section\n",
    "# combined_data_df = pd.read_csv(Reddit_Data_Input_Path,dtype=\"object\", encoding=\"latin\")"
   ]
  },
  {
   "cell_type": "code",
   "execution_count": 7,
   "metadata": {},
   "outputs": [],
   "source": [
    "combined_data_df=clean_df"
   ]
  },
  {
   "cell_type": "code",
   "execution_count": 9,
   "metadata": {},
   "outputs": [
    {
     "name": "stdout",
     "output_type": "stream",
     "text": [
      "Date             646\n",
      "open             646\n",
      "high             646\n",
      "low              646\n",
      "close            646\n",
      "volume           646\n",
      "# of Comments    646\n",
      "dtype: int64\n",
      "Date              object\n",
      "open             float64\n",
      "high             float64\n",
      "low              float64\n",
      "close            float64\n",
      "volume           float64\n",
      "# of Comments    float64\n",
      "dtype: object\n"
     ]
    }
   ],
   "source": [
    "# Check data\n",
    "print(combined_data_df.count())\n",
    "print(combined_data_df.dtypes)"
   ]
  },
  {
   "cell_type": "code",
   "execution_count": 10,
   "metadata": {},
   "outputs": [],
   "source": [
    "# Fix data types and create Date_Object for plotting\n",
    "# combined_data_df[['open','high','low','close','volume','# of Comments']] = combined_data_df[['open','high','low','close','volume','# of Comments (Hourly)']].astype(float)\n",
    "combined_data_df[\"Date_Object\"] = pd.to_datetime(combined_data_df[\"Date\"])"
   ]
  },
  {
   "cell_type": "code",
   "execution_count": 11,
   "metadata": {},
   "outputs": [],
   "source": [
    "# Add calculation of change in the hour\n",
    "combined_data_df[\"Change\"] = combined_data_df[\"close\"] - combined_data_df[\"open\"]\n",
    "combined_data_df[\"Abs_Change\"] = abs(combined_data_df[\"Change\"]) "
   ]
  },
  {
   "cell_type": "code",
   "execution_count": 12,
   "metadata": {},
   "outputs": [
    {
     "name": "stdout",
     "output_type": "stream",
     "text": [
      "Date                     object\n",
      "open                    float64\n",
      "high                    float64\n",
      "low                     float64\n",
      "close                   float64\n",
      "volume                  float64\n",
      "# of Comments           float64\n",
      "Date_Object      datetime64[ns]\n",
      "Change                  float64\n",
      "Abs_Change              float64\n",
      "dtype: object\n"
     ]
    },
    {
     "data": {
      "text/html": [
       "<div>\n",
       "<style scoped>\n",
       "    .dataframe tbody tr th:only-of-type {\n",
       "        vertical-align: middle;\n",
       "    }\n",
       "\n",
       "    .dataframe tbody tr th {\n",
       "        vertical-align: top;\n",
       "    }\n",
       "\n",
       "    .dataframe thead th {\n",
       "        text-align: right;\n",
       "    }\n",
       "</style>\n",
       "<table border=\"1\" class=\"dataframe\">\n",
       "  <thead>\n",
       "    <tr style=\"text-align: right;\">\n",
       "      <th></th>\n",
       "      <th>Date</th>\n",
       "      <th>open</th>\n",
       "      <th>high</th>\n",
       "      <th>low</th>\n",
       "      <th>close</th>\n",
       "      <th>volume</th>\n",
       "      <th># of Comments</th>\n",
       "      <th>Date_Object</th>\n",
       "      <th>Change</th>\n",
       "      <th>Abs_Change</th>\n",
       "    </tr>\n",
       "  </thead>\n",
       "  <tbody>\n",
       "    <tr>\n",
       "      <th>0</th>\n",
       "      <td>02/01/2021 20:00</td>\n",
       "      <td>186.6500</td>\n",
       "      <td>198.9900</td>\n",
       "      <td>186.65</td>\n",
       "      <td>189.52</td>\n",
       "      <td>398808.0</td>\n",
       "      <td>533.0</td>\n",
       "      <td>2021-02-01 20:00:00</td>\n",
       "      <td>2.8700</td>\n",
       "      <td>2.8700</td>\n",
       "    </tr>\n",
       "    <tr>\n",
       "      <th>1</th>\n",
       "      <td>02/01/2021 19:00</td>\n",
       "      <td>178.0000</td>\n",
       "      <td>190.0000</td>\n",
       "      <td>177.00</td>\n",
       "      <td>187.75</td>\n",
       "      <td>495863.0</td>\n",
       "      <td>664.0</td>\n",
       "      <td>2021-02-01 19:00:00</td>\n",
       "      <td>9.7500</td>\n",
       "      <td>9.7500</td>\n",
       "    </tr>\n",
       "    <tr>\n",
       "      <th>2</th>\n",
       "      <td>02/01/2021 18:00</td>\n",
       "      <td>207.9600</td>\n",
       "      <td>208.7900</td>\n",
       "      <td>173.00</td>\n",
       "      <td>178.00</td>\n",
       "      <td>1577886.0</td>\n",
       "      <td>882.0</td>\n",
       "      <td>2021-02-01 18:00:00</td>\n",
       "      <td>-29.9600</td>\n",
       "      <td>29.9600</td>\n",
       "    </tr>\n",
       "    <tr>\n",
       "      <th>3</th>\n",
       "      <td>02/01/2021 17:00</td>\n",
       "      <td>225.4600</td>\n",
       "      <td>231.0000</td>\n",
       "      <td>206.00</td>\n",
       "      <td>207.55</td>\n",
       "      <td>626967.0</td>\n",
       "      <td>1080.0</td>\n",
       "      <td>2021-02-01 17:00:00</td>\n",
       "      <td>-17.9100</td>\n",
       "      <td>17.9100</td>\n",
       "    </tr>\n",
       "    <tr>\n",
       "      <th>4</th>\n",
       "      <td>02/01/2021 16:00</td>\n",
       "      <td>240.1096</td>\n",
       "      <td>240.1096</td>\n",
       "      <td>214.66</td>\n",
       "      <td>227.00</td>\n",
       "      <td>4599470.0</td>\n",
       "      <td>1159.0</td>\n",
       "      <td>2021-02-01 16:00:00</td>\n",
       "      <td>-13.1096</td>\n",
       "      <td>13.1096</td>\n",
       "    </tr>\n",
       "    <tr>\n",
       "      <th>...</th>\n",
       "      <td>...</td>\n",
       "      <td>...</td>\n",
       "      <td>...</td>\n",
       "      <td>...</td>\n",
       "      <td>...</td>\n",
       "      <td>...</td>\n",
       "      <td>...</td>\n",
       "      <td>...</td>\n",
       "      <td>...</td>\n",
       "      <td>...</td>\n",
       "    </tr>\n",
       "    <tr>\n",
       "      <th>641</th>\n",
       "      <td>12/01/2020 09:00</td>\n",
       "      <td>17.1100</td>\n",
       "      <td>17.4000</td>\n",
       "      <td>17.05</td>\n",
       "      <td>17.21</td>\n",
       "      <td>125719.0</td>\n",
       "      <td>0.0</td>\n",
       "      <td>2020-12-01 09:00:00</td>\n",
       "      <td>0.1000</td>\n",
       "      <td>0.1000</td>\n",
       "    </tr>\n",
       "    <tr>\n",
       "      <th>642</th>\n",
       "      <td>12/01/2020 08:00</td>\n",
       "      <td>17.4000</td>\n",
       "      <td>17.4000</td>\n",
       "      <td>17.00</td>\n",
       "      <td>17.06</td>\n",
       "      <td>44953.0</td>\n",
       "      <td>0.0</td>\n",
       "      <td>2020-12-01 08:00:00</td>\n",
       "      <td>-0.3400</td>\n",
       "      <td>0.3400</td>\n",
       "    </tr>\n",
       "    <tr>\n",
       "      <th>643</th>\n",
       "      <td>12/01/2020 07:00</td>\n",
       "      <td>17.5700</td>\n",
       "      <td>17.5700</td>\n",
       "      <td>17.40</td>\n",
       "      <td>17.41</td>\n",
       "      <td>4334.0</td>\n",
       "      <td>0.0</td>\n",
       "      <td>2020-12-01 07:00:00</td>\n",
       "      <td>-0.1600</td>\n",
       "      <td>0.1600</td>\n",
       "    </tr>\n",
       "    <tr>\n",
       "      <th>644</th>\n",
       "      <td>12/01/2020 06:00</td>\n",
       "      <td>17.5000</td>\n",
       "      <td>17.6500</td>\n",
       "      <td>17.44</td>\n",
       "      <td>17.48</td>\n",
       "      <td>12780.0</td>\n",
       "      <td>0.0</td>\n",
       "      <td>2020-12-01 06:00:00</td>\n",
       "      <td>-0.0200</td>\n",
       "      <td>0.0200</td>\n",
       "    </tr>\n",
       "    <tr>\n",
       "      <th>645</th>\n",
       "      <td>12/01/2020 05:00</td>\n",
       "      <td>16.9000</td>\n",
       "      <td>17.5000</td>\n",
       "      <td>16.90</td>\n",
       "      <td>17.50</td>\n",
       "      <td>11035.0</td>\n",
       "      <td>0.0</td>\n",
       "      <td>2020-12-01 05:00:00</td>\n",
       "      <td>0.6000</td>\n",
       "      <td>0.6000</td>\n",
       "    </tr>\n",
       "  </tbody>\n",
       "</table>\n",
       "<p>646 rows × 10 columns</p>\n",
       "</div>"
      ],
      "text/plain": [
       "                 Date      open      high     low   close     volume  \\\n",
       "0    02/01/2021 20:00  186.6500  198.9900  186.65  189.52   398808.0   \n",
       "1    02/01/2021 19:00  178.0000  190.0000  177.00  187.75   495863.0   \n",
       "2    02/01/2021 18:00  207.9600  208.7900  173.00  178.00  1577886.0   \n",
       "3    02/01/2021 17:00  225.4600  231.0000  206.00  207.55   626967.0   \n",
       "4    02/01/2021 16:00  240.1096  240.1096  214.66  227.00  4599470.0   \n",
       "..                ...       ...       ...     ...     ...        ...   \n",
       "641  12/01/2020 09:00   17.1100   17.4000   17.05   17.21   125719.0   \n",
       "642  12/01/2020 08:00   17.4000   17.4000   17.00   17.06    44953.0   \n",
       "643  12/01/2020 07:00   17.5700   17.5700   17.40   17.41     4334.0   \n",
       "644  12/01/2020 06:00   17.5000   17.6500   17.44   17.48    12780.0   \n",
       "645  12/01/2020 05:00   16.9000   17.5000   16.90   17.50    11035.0   \n",
       "\n",
       "     # of Comments         Date_Object   Change  Abs_Change  \n",
       "0            533.0 2021-02-01 20:00:00   2.8700      2.8700  \n",
       "1            664.0 2021-02-01 19:00:00   9.7500      9.7500  \n",
       "2            882.0 2021-02-01 18:00:00 -29.9600     29.9600  \n",
       "3           1080.0 2021-02-01 17:00:00 -17.9100     17.9100  \n",
       "4           1159.0 2021-02-01 16:00:00 -13.1096     13.1096  \n",
       "..             ...                 ...      ...         ...  \n",
       "641            0.0 2020-12-01 09:00:00   0.1000      0.1000  \n",
       "642            0.0 2020-12-01 08:00:00  -0.3400      0.3400  \n",
       "643            0.0 2020-12-01 07:00:00  -0.1600      0.1600  \n",
       "644            0.0 2020-12-01 06:00:00  -0.0200      0.0200  \n",
       "645            0.0 2020-12-01 05:00:00   0.6000      0.6000  \n",
       "\n",
       "[646 rows x 10 columns]"
      ]
     },
     "execution_count": 12,
     "metadata": {},
     "output_type": "execute_result"
    }
   ],
   "source": [
    "# Check data again\n",
    "print(combined_data_df.dtypes)\n",
    "combined_data_df"
   ]
  },
  {
   "cell_type": "code",
   "execution_count": 14,
   "metadata": {},
   "outputs": [],
   "source": [
    "# Sort the data so it is ascending (otherwise plots \"backwards\", oldest data first)\n",
    "combined_data_df.sort_values(by=[\"Date_Object\"],inplace=True)\n"
   ]
  },
  {
   "cell_type": "code",
   "execution_count": 17,
   "metadata": {},
   "outputs": [
    {
     "name": "stdout",
     "output_type": "stream",
     "text": [
      "Line graphs for GME Stock Price Close by Date\n",
      "\n",
      "\n"
     ]
    },
    {
     "data": {
      "image/png": "[encoded data removed]",
      "text/plain": [
       "<Figure size 432x288 with 1 Axes>"
      ]
     },
     "metadata": {
      "needs_background": "light"
     },
     "output_type": "display_data"
    }
   ],
   "source": [
    "print(f\"Line graphs for GME Stock Price Close by Date\\n\\n\") \n",
    "Stock_Data_Graph = combined_data_df.plot(x='Date_Object', y=\"close\", kind=\"line\",title=f\"GME Stock Closing Price by Day and Hour\")\n",
    "\n",
    "plt.ylabel(\"GME Closing Stock Price by Day and Hour\")\n",
    "plt.xlabel(\"Date\")\n",
    "# Write out to png file\n",
    "plt.savefig(os.path.join(Output_Data_Path_Folder,'GME_Combined_1200_By_Date_Hour.png'))\n",
    "plt.show()"
   ]
  },
  {
   "cell_type": "code",
   "execution_count": 19,
   "metadata": {},
   "outputs": [
    {
     "name": "stdout",
     "output_type": "stream",
     "text": [
      "Line graphs for Reddit Message Volume by Date\n",
      "\n",
      "\n"
     ]
    },
    {
     "data": {
      "image/png": "[encoded data removed]",
      "text/plain": [
       "<Figure size 432x288 with 1 Axes>"
      ]
     },
     "metadata": {
      "needs_background": "light"
     },
     "output_type": "display_data"
    }
   ],
   "source": [
    "print(f\"Line graphs for Reddit Message Volume by Date\\n\\n\") \n",
    "Stock_Data_Graph = combined_data_df.plot(x='Date_Object', y=\"# of Comments\", kind=\"line\",title=f\"Reddit Message Volume by Day and Hour\")\n",
    "\n",
    "plt.ylabel(\"Reddit Message Volume\")\n",
    "plt.xlabel(\"Date\")\n",
    "# Write out to png file\n",
    "plt.savefig(os.path.join(Output_Data_Path_Folder,'Reddit_Msg_Vol_By_Date_Hour_1200.png'))\n",
    "plt.show()"
   ]
  },
  {
   "cell_type": "code",
   "execution_count": 21,
   "metadata": {},
   "outputs": [
    {
     "name": "stdout",
     "output_type": "stream",
     "text": [
      "Scatter Plot GME Stock Price Close by Message Volume\n",
      "\n",
      "\n"
     ]
    },
    {
     "data": {
      "image/png": "[encoded data removed]",
      "text/plain": [
       "<Figure size 432x288 with 1 Axes>"
      ]
     },
     "metadata": {
      "needs_background": "light"
     },
     "output_type": "display_data"
    }
   ],
   "source": [
    "print(f\"Scatter Plot GME Stock Price Close by Message Volume\\n\\n\") \n",
    "Stock_Data_Graph = combined_data_df.plot(x='# of Comments', y=\"close\", kind=\"scatter\",title=f\"GME Stock Closing Price by Message Volume\")\n",
    "\n",
    "plt.ylabel(\"GME Closing Stock Price by Day and Hour\")\n",
    "plt.xlabel(\"Message Volume\")\n",
    "# Write out to png file\n",
    "plt.savefig(os.path.join(Output_Data_Path_Folder,'GME_Combined_Close_vs_Msg_Vol_per_Hour_1200.png'))\n",
    "plt.show()"
   ]
  },
  {
   "cell_type": "code",
   "execution_count": 22,
   "metadata": {},
   "outputs": [
    {
     "name": "stdout",
     "output_type": "stream",
     "text": [
      "Scatter Plot GME Stock Price Change by Message Volume\n",
      "\n",
      "\n"
     ]
    },
    {
     "data": {
      "image/png": "[encoded data removed]",
      "text/plain": [
       "<Figure size 432x288 with 1 Axes>"
      ]
     },
     "metadata": {
      "needs_background": "light"
     },
     "output_type": "display_data"
    }
   ],
   "source": [
    "print(f\"Scatter Plot GME Stock Price Change by Message Volume\\n\\n\") \n",
    "Stock_Data_Graph = combined_data_df.plot(x='# of Comments', y=\"Change\", kind=\"scatter\",title=f\"GME Stock Change vs Message Volume\")\n",
    "\n",
    "plt.ylabel(\"GME Change in Stock Price by Day and Hour\")\n",
    "plt.xlabel(\"Message Volume\")\n",
    "# Write out to png file\n",
    "plt.savefig(os.path.join(Output_Data_Path_Folder,'GME_Combined_Change_vs_Msg_Vol_per_Hour_1200.png'))\n",
    "plt.show()"
   ]
  },
  {
   "cell_type": "code",
   "execution_count": 32,
   "metadata": {},
   "outputs": [
    {
     "name": "stdout",
     "output_type": "stream",
     "text": [
      "Scatter Plot GME Stock Price Absolute Change by Message Volume\n",
      "\n",
      "\n"
     ]
    },
    {
     "data": {
      "image/png": "[encoded data removed]",
      "text/plain": [
       "<Figure size 432x288 with 1 Axes>"
      ]
     },
     "metadata": {
      "needs_background": "light"
     },
     "output_type": "display_data"
    }
   ],
   "source": [
    "print(f\"Scatter Plot GME Stock Price Absolute Change by Message Volume\\n\\n\") \n",
    "Stock_Data_Graph = combined_data_df.plot(x='# of Comments', y=\"Abs_Change\", kind=\"scatter\",title=f\"GME Stock Absolute Change vs Message Volume\")\n",
    "\n",
    "plt.ylabel(\"GME Abs Change in Stock Price by Day and Hour\")\n",
    "plt.xlabel(\"Message Volume\")\n",
    "# Write out to png file\n",
    "plt.savefig(os.path.join(Output_Data_Path_Folder,'GME_Combined_abs_Change_vs_Msg_Vol_per_Hour_1200.png'))\n",
    "plt.show()"
   ]
  },
  {
   "cell_type": "code",
   "execution_count": 32,
   "metadata": {},
   "outputs": [
    {
     "data": {
      "text/html": [
       "<div>\n",
       "<style scoped>\n",
       "    .dataframe tbody tr th:only-of-type {\n",
       "        vertical-align: middle;\n",
       "    }\n",
       "\n",
       "    .dataframe tbody tr th {\n",
       "        vertical-align: top;\n",
       "    }\n",
       "\n",
       "    .dataframe thead th {\n",
       "        text-align: right;\n",
       "    }\n",
       "</style>\n",
       "<table border=\"1\" class=\"dataframe\">\n",
       "  <thead>\n",
       "    <tr style=\"text-align: right;\">\n",
       "      <th></th>\n",
       "      <th>Date</th>\n",
       "      <th>Time</th>\n",
       "      <th>open</th>\n",
       "      <th>high</th>\n",
       "      <th>low</th>\n",
       "      <th>close</th>\n",
       "      <th>volume</th>\n",
       "      <th># of Comments (Hourly)</th>\n",
       "      <th>time</th>\n",
       "      <th>Date_Object</th>\n",
       "      <th>Change</th>\n",
       "      <th>Abs_Change</th>\n",
       "      <th>Message Group</th>\n",
       "    </tr>\n",
       "  </thead>\n",
       "  <tbody>\n",
       "    <tr>\n",
       "      <th>1462</th>\n",
       "      <td>9/14/2020</td>\n",
       "      <td>05:00</td>\n",
       "      <td>6.3600</td>\n",
       "      <td>6.6000</td>\n",
       "      <td>6.33</td>\n",
       "      <td>6.48</td>\n",
       "      <td>4379.0</td>\n",
       "      <td>0.0</td>\n",
       "      <td>9/14/2020 05:00</td>\n",
       "      <td>2020-09-14</td>\n",
       "      <td>0.1200</td>\n",
       "      <td>0.1200</td>\n",
       "      <td>x0</td>\n",
       "    </tr>\n",
       "    <tr>\n",
       "      <th>1461</th>\n",
       "      <td>9/14/2020</td>\n",
       "      <td>06:00</td>\n",
       "      <td>6.5900</td>\n",
       "      <td>6.6000</td>\n",
       "      <td>6.58</td>\n",
       "      <td>6.60</td>\n",
       "      <td>8412.0</td>\n",
       "      <td>0.0</td>\n",
       "      <td>9/14/2020 06:00</td>\n",
       "      <td>2020-09-14</td>\n",
       "      <td>0.0100</td>\n",
       "      <td>0.0100</td>\n",
       "      <td>x0</td>\n",
       "    </tr>\n",
       "    <tr>\n",
       "      <th>1460</th>\n",
       "      <td>9/14/2020</td>\n",
       "      <td>07:00</td>\n",
       "      <td>6.5400</td>\n",
       "      <td>6.5400</td>\n",
       "      <td>6.54</td>\n",
       "      <td>6.54</td>\n",
       "      <td>149.0</td>\n",
       "      <td>0.0</td>\n",
       "      <td>9/14/2020 07:00</td>\n",
       "      <td>2020-09-14</td>\n",
       "      <td>0.0000</td>\n",
       "      <td>0.0000</td>\n",
       "      <td>x0</td>\n",
       "    </tr>\n",
       "    <tr>\n",
       "      <th>1459</th>\n",
       "      <td>9/14/2020</td>\n",
       "      <td>08:00</td>\n",
       "      <td>6.6500</td>\n",
       "      <td>6.9800</td>\n",
       "      <td>6.52</td>\n",
       "      <td>6.84</td>\n",
       "      <td>106580.0</td>\n",
       "      <td>0.0</td>\n",
       "      <td>9/14/2020 08:00</td>\n",
       "      <td>2020-09-14</td>\n",
       "      <td>0.1900</td>\n",
       "      <td>0.1900</td>\n",
       "      <td>x0</td>\n",
       "    </tr>\n",
       "    <tr>\n",
       "      <th>1458</th>\n",
       "      <td>9/14/2020</td>\n",
       "      <td>09:00</td>\n",
       "      <td>6.8755</td>\n",
       "      <td>6.9800</td>\n",
       "      <td>6.52</td>\n",
       "      <td>6.80</td>\n",
       "      <td>181079.0</td>\n",
       "      <td>0.0</td>\n",
       "      <td>9/14/2020 09:00</td>\n",
       "      <td>2020-09-14</td>\n",
       "      <td>-0.0755</td>\n",
       "      <td>0.0755</td>\n",
       "      <td>x0</td>\n",
       "    </tr>\n",
       "    <tr>\n",
       "      <th>...</th>\n",
       "      <td>...</td>\n",
       "      <td>...</td>\n",
       "      <td>...</td>\n",
       "      <td>...</td>\n",
       "      <td>...</td>\n",
       "      <td>...</td>\n",
       "      <td>...</td>\n",
       "      <td>...</td>\n",
       "      <td>...</td>\n",
       "      <td>...</td>\n",
       "      <td>...</td>\n",
       "      <td>...</td>\n",
       "      <td>...</td>\n",
       "    </tr>\n",
       "    <tr>\n",
       "      <th>4</th>\n",
       "      <td>2/2/2021</td>\n",
       "      <td>16:00</td>\n",
       "      <td>99.8561</td>\n",
       "      <td>101.9599</td>\n",
       "      <td>88.00</td>\n",
       "      <td>90.47</td>\n",
       "      <td>5582379.0</td>\n",
       "      <td>500.0</td>\n",
       "      <td>2/2/2021 16:00</td>\n",
       "      <td>2021-02-02</td>\n",
       "      <td>-9.3861</td>\n",
       "      <td>9.3861</td>\n",
       "      <td>x500</td>\n",
       "    </tr>\n",
       "    <tr>\n",
       "      <th>3</th>\n",
       "      <td>2/2/2021</td>\n",
       "      <td>17:00</td>\n",
       "      <td>90.7600</td>\n",
       "      <td>93.8900</td>\n",
       "      <td>85.33</td>\n",
       "      <td>88.78</td>\n",
       "      <td>843580.0</td>\n",
       "      <td>500.0</td>\n",
       "      <td>2/2/2021 17:00</td>\n",
       "      <td>2021-02-02</td>\n",
       "      <td>-1.9800</td>\n",
       "      <td>1.9800</td>\n",
       "      <td>x500</td>\n",
       "    </tr>\n",
       "    <tr>\n",
       "      <th>2</th>\n",
       "      <td>2/2/2021</td>\n",
       "      <td>18:00</td>\n",
       "      <td>88.8200</td>\n",
       "      <td>96.0000</td>\n",
       "      <td>86.01</td>\n",
       "      <td>92.00</td>\n",
       "      <td>476352.0</td>\n",
       "      <td>500.0</td>\n",
       "      <td>2/2/2021 18:00</td>\n",
       "      <td>2021-02-02</td>\n",
       "      <td>3.1800</td>\n",
       "      <td>3.1800</td>\n",
       "      <td>x500</td>\n",
       "    </tr>\n",
       "    <tr>\n",
       "      <th>1</th>\n",
       "      <td>2/2/2021</td>\n",
       "      <td>19:00</td>\n",
       "      <td>92.0000</td>\n",
       "      <td>94.0000</td>\n",
       "      <td>88.00</td>\n",
       "      <td>90.00</td>\n",
       "      <td>232127.0</td>\n",
       "      <td>483.0</td>\n",
       "      <td>2/2/2021 19:00</td>\n",
       "      <td>2021-02-02</td>\n",
       "      <td>-2.0000</td>\n",
       "      <td>2.0000</td>\n",
       "      <td>x500</td>\n",
       "    </tr>\n",
       "    <tr>\n",
       "      <th>0</th>\n",
       "      <td>2/2/2021</td>\n",
       "      <td>20:00</td>\n",
       "      <td>90.0000</td>\n",
       "      <td>90.5000</td>\n",
       "      <td>85.00</td>\n",
       "      <td>85.20</td>\n",
       "      <td>288108.0</td>\n",
       "      <td>459.0</td>\n",
       "      <td>2/2/2021 20:00</td>\n",
       "      <td>2021-02-02</td>\n",
       "      <td>-4.8000</td>\n",
       "      <td>4.8000</td>\n",
       "      <td>x500</td>\n",
       "    </tr>\n",
       "  </tbody>\n",
       "</table>\n",
       "<p>1463 rows × 13 columns</p>\n",
       "</div>"
      ],
      "text/plain": [
       "           Date   Time     open      high    low  close     volume  \\\n",
       "1462  9/14/2020  05:00   6.3600    6.6000   6.33   6.48     4379.0   \n",
       "1461  9/14/2020  06:00   6.5900    6.6000   6.58   6.60     8412.0   \n",
       "1460  9/14/2020  07:00   6.5400    6.5400   6.54   6.54      149.0   \n",
       "1459  9/14/2020  08:00   6.6500    6.9800   6.52   6.84   106580.0   \n",
       "1458  9/14/2020  09:00   6.8755    6.9800   6.52   6.80   181079.0   \n",
       "...         ...    ...      ...       ...    ...    ...        ...   \n",
       "4      2/2/2021  16:00  99.8561  101.9599  88.00  90.47  5582379.0   \n",
       "3      2/2/2021  17:00  90.7600   93.8900  85.33  88.78   843580.0   \n",
       "2      2/2/2021  18:00  88.8200   96.0000  86.01  92.00   476352.0   \n",
       "1      2/2/2021  19:00  92.0000   94.0000  88.00  90.00   232127.0   \n",
       "0      2/2/2021  20:00  90.0000   90.5000  85.00  85.20   288108.0   \n",
       "\n",
       "      # of Comments (Hourly)             time Date_Object  Change  Abs_Change  \\\n",
       "1462                     0.0  9/14/2020 05:00  2020-09-14  0.1200      0.1200   \n",
       "1461                     0.0  9/14/2020 06:00  2020-09-14  0.0100      0.0100   \n",
       "1460                     0.0  9/14/2020 07:00  2020-09-14  0.0000      0.0000   \n",
       "1459                     0.0  9/14/2020 08:00  2020-09-14  0.1900      0.1900   \n",
       "1458                     0.0  9/14/2020 09:00  2020-09-14 -0.0755      0.0755   \n",
       "...                      ...              ...         ...     ...         ...   \n",
       "4                      500.0   2/2/2021 16:00  2021-02-02 -9.3861      9.3861   \n",
       "3                      500.0   2/2/2021 17:00  2021-02-02 -1.9800      1.9800   \n",
       "2                      500.0   2/2/2021 18:00  2021-02-02  3.1800      3.1800   \n",
       "1                      483.0   2/2/2021 19:00  2021-02-02 -2.0000      2.0000   \n",
       "0                      459.0   2/2/2021 20:00  2021-02-02 -4.8000      4.8000   \n",
       "\n",
       "     Message Group  \n",
       "1462            x0  \n",
       "1461            x0  \n",
       "1460            x0  \n",
       "1459            x0  \n",
       "1458            x0  \n",
       "...            ...  \n",
       "4             x500  \n",
       "3             x500  \n",
       "2             x500  \n",
       "1             x500  \n",
       "0             x500  \n",
       "\n",
       "[1463 rows x 13 columns]"
      ]
     },
     "execution_count": 32,
     "metadata": {},
     "output_type": "execute_result"
    }
   ],
   "source": []
  },
  {
   "cell_type": "code",
   "execution_count": 31,
   "metadata": {},
   "outputs": [
    {
     "data": {
      "image/png": "[encoded data removed]",
      "text/plain": [
       "<Figure size 432x288 with 1 Axes>"
      ]
     },
     "metadata": {
      "needs_background": "light"
     },
     "output_type": "display_data"
    }
   ],
   "source": [
    "######  Reduce the data by eliminating noise\n",
    "# First do a histogram\n",
    "# print(f\"Histogram of Message Volume\\n\\n\") \n",
    "message_histogram = plt.hist(combined_data_df[\"# of Comments\"]) \n",
    "\n",
    "plt.ylabel(\"Count of Occurences\")\n",
    "plt.xlabel(\"Message Volume per Hour\")\n",
    "# Write out to png file\n",
    "plt.title(\"Histogram of Messages per Hour\")\n",
    "plt.savefig(os.path.join(Output_Data_Path_Folder,'Combined_Hist_Msg_Vol_per_Hour_1200.png'))\n",
    "plt.show()"
   ]
  },
  {
   "cell_type": "code",
   "execution_count": 28,
   "metadata": {},
   "outputs": [],
   "source": [
    "# restrict the number of message hours to eliminate the low noise and the 500 wall \n",
    "Message_Subset = combined_data_df[(((combined_data_df[\"# of Comments\"]) >= 200) & ((combined_data_df[\"# of Comments\"]) < 1200))]"
   ]
  },
  {
   "cell_type": "code",
   "execution_count": 33,
   "metadata": {},
   "outputs": [
    {
     "data": {
      "text/plain": [
       "Date             90\n",
       "open             90\n",
       "high             90\n",
       "low              90\n",
       "close            90\n",
       "volume           90\n",
       "# of Comments    90\n",
       "Date_Object      90\n",
       "Change           90\n",
       "Abs_Change       90\n",
       "dtype: int64"
      ]
     },
     "execution_count": 33,
     "metadata": {},
     "output_type": "execute_result"
    }
   ],
   "source": [
    "Message_Subset.count()"
   ]
  },
  {
   "cell_type": "code",
   "execution_count": 36,
   "metadata": {},
   "outputs": [
    {
     "name": "stdout",
     "output_type": "stream",
     "text": [
      "Scatter Plot GME Stock Price Absolute Change by Message Volume\n",
      "\n",
      "\n"
     ]
    },
    {
     "data": {
      "image/png": "[encoded data removed]",
      "text/plain": [
       "<Figure size 432x288 with 1 Axes>"
      ]
     },
     "metadata": {
      "needs_background": "light"
     },
     "output_type": "display_data"
    }
   ],
   "source": [
    "print(f\"Scatter Plot GME Stock Price Absolute Change by Message Volume\\n\\n\") \n",
    "Stock_Data_Graph = Message_Subset.plot(x='# of Comments', y=\"Abs_Change\", kind=\"scatter\",title=f\"GME Stock Absolute Change vs Message Volume\")\n",
    "(slope, intercept, rvalue, pvalue, stderr) = linregress(Message_Subset[\"# of Comments\"],Message_Subset[\"Abs_Change\"])\n",
    "regress_values = Message_Subset[\"# of Comments\"] * slope + intercept\n",
    "line_eq = \"y = \" + str(round(slope,2)) + \"x + \" + str(round(intercept,2))\n",
    "R_value = \"r = \" + str(round(rvalue,4))\n",
    "plt.plot(Message_Subset[\"# of Comments\"],regress_values,\"r-\")\n",
    "plt.annotate(line_eq,(300,120),fontsize=10,color=\"red\",rotation=0)\n",
    "plt.annotate(R_value,(300,100),fontsize=10,color=\"red\", rotation = 0)\n",
    "\n",
    "plt.ylabel(\"GME Abs Change in Stock Price by Day and Hour\")\n",
    "plt.xlabel(\"Hourly Message Volume\")\n",
    "# Write out to png file\n",
    "plt.savefig(os.path.join(Output_Data_Path_Folder,'GME_Subset_abs_Change_vs_Msg_Vol_per_Hour_1200.png'))\n",
    "plt.show()"
   ]
  },
  {
   "cell_type": "code",
   "execution_count": null,
   "metadata": {},
   "outputs": [],
   "source": []
  }
 ],
 "metadata": {
  "kernelspec": {
   "display_name": "Python 3",
   "language": "python",
   "name": "python3"
  },
  "language_info": {
   "codemirror_mode": {
    "name": "ipython",
    "version": 3
   },
   "file_extension": ".py",
   "mimetype": "text/x-python",
   "name": "python",
   "nbconvert_exporter": "python",
   "pygments_lexer": "ipython3",
   "version": "3.6.10"
  }
 },
 "nbformat": 4,
 "nbformat_minor": 4
}
