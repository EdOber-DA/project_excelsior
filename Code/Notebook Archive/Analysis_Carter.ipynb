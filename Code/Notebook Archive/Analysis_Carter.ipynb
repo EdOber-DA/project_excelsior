{
 "cells": [
  {
   "cell_type": "code",
   "execution_count": 29,
   "metadata": {},
   "outputs": [],
   "source": [
    "import pandas as pd\n",
    "import datetime"
   ]
  },
  {
   "cell_type": "code",
   "execution_count": null,
   "metadata": {},
   "outputs": [],
   "source": []
  },
  {
   "cell_type": "code",
   "execution_count": 89,
   "metadata": {},
   "outputs": [],
   "source": [
    "stock_df = pd.read_csv('Data/Combined GME ALL 12_1_2_2.csv')\n",
    "comment_df = pd.read_csv('Data/12_1_to_2_2_hourly.csv')\n",
    "#days = [v.split()[0] for i, v in comment_df['Date'].items()]\n",
    "#times =[v.split()[1] for i, v in comment_df['Date'].items()]\n",
    "#comment_df['Date']= days\n",
    "#comment_df['Time']= times\n",
    "stock_df = stock_df.rename(columns={'time':'Date'})\n",
    "stock_df['Date'] = [datetime.datetime.strptime(i, '%m/%d/%Y %H:00').strftime('%m/%d/%Y %H:00')for i in stock_df['Date']]\n",
    "comment_df['Date'] = [datetime.datetime.strptime(i, '%m/%d/%Y %H:00').strftime('%m/%d/%Y %H:00')for i in comment_df['Date']]\n",
    "comment_df = comment_df[['Date','# of Comments']]"
   ]
  },
  {
   "cell_type": "code",
   "execution_count": 98,
   "metadata": {},
   "outputs": [],
   "source": [
    "merged_df = pd.merge(stock_df,comment_df,how='outer',on='Date')\n",
    "clean_df = merged_df[merged_df['open'].notna()]\n",
    "clean_df = clean_df.fillna(0)\n",
    "days = [v.split()[0] for i, v in clean_df['Date'].items()]\n",
    "clean_df['Day']= days\n",
    "grouped_days = clean_df.groupby(['Day'])\n",
    "grouped_days.sum()\n"
   ]
  }
 ],
 "metadata": {
  "kernelspec": {
   "display_name": "Python 3",
   "language": "python",
   "name": "python3"
  },
  "language_info": {
   "codemirror_mode": {
    "name": "ipython",
    "version": 3
   },
   "file_extension": ".py",
   "mimetype": "text/x-python",
   "name": "python",
   "nbconvert_exporter": "python",
   "pygments_lexer": "ipython3",
   "version": "3.8.3"
  }
 },
 "nbformat": 4,
 "nbformat_minor": 4
}
