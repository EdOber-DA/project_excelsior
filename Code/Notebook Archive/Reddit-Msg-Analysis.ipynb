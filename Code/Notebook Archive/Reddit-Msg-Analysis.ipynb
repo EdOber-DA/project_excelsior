{
 "cells": [
  {
   "cell_type": "code",
   "execution_count": 1,
   "metadata": {},
   "outputs": [],
   "source": [
    "##### Reddit message Code - works wit h10K file\n",
    "###############################################\n",
    "###############################################\n",
    "###############################################\n",
    "BLOCKING TO NOT RUN - WILL RUN 4-5 hours!!!\n",
    "BLOCKING TO NOT RUN - WILL RUN 4-5 hours!!!\n",
    "BLOCKING TO NOT RUN - WILL RUN 4-5 hours!!!\n",
    "BLOCKING TO NOT RUN - WILL RUN 4-5 hours!!!\n",
    "BLOCKING TO NOT RUN - WILL RUN 4-5 hours!!!\n",
    "###############################################\n",
    "###############################################\n",
    "###############################################\n",
    "###############################################\n",
    "\n",
    "# Dependencies\n",
    "import gmaps\n",
    "import numpy as np\n",
    "import pandas as pd\n",
    "\n",
    "import requests\n",
    "import json\n",
    "\n",
    "import scipy.stats as st\n",
    "from scipy.stats import linregress\n",
    "\n",
    "from matplotlib import pyplot as plt\n",
    "\n",
    "from pprint import pprint\n",
    "\n",
    "from random import seed\n",
    "from random import randint\n",
    "\n",
    "# Time calculations\n",
    "import time\n",
    "import datetime\n",
    "# from datetime import datetime\n",
    "from time import strftime\n",
    "\n",
    "# Printing and Output Controls\n",
    "import sys\n",
    "import os,csv"
   ]
  },
  {
   "cell_type": "code",
   "execution_count": 2,
   "metadata": {},
   "outputs": [],
   "source": [
    "# Set up output path \n",
    "Output_Data_Path_Folder = \"../Output\" \n",
    "Reddit_Data_Input_Path = \"../Data/r_wallstreetbets_posts_special.csv\""
   ]
  },
  {
   "cell_type": "code",
   "execution_count": 3,
   "metadata": {},
   "outputs": [],
   "source": [
    "# read in the csv created in the WeatherPy section\n",
    "reddit_data_df = pd.read_csv(Reddit_Data_Input_Path,dtype=\"object\", encoding=\"latin\",usecols=[1, 10, 12],nrows=368471)"
   ]
  },
  {
   "cell_type": "code",
   "execution_count": 4,
   "metadata": {},
   "outputs": [
    {
     "name": "stdout",
     "output_type": "stream",
     "text": [
      "title           368470\n",
      "num_comments    368471\n",
      "Date Stamp      368471\n",
      "dtype: int64\n"
     ]
    }
   ],
   "source": [
    "# Check data\n",
    "print(reddit_data_df.count())\n",
    "# print(reddit_data_df.dtypes)\n",
    "# reddit_data_df.head(2)"
   ]
  },
  {
   "cell_type": "code",
   "execution_count": 5,
   "metadata": {},
   "outputs": [],
   "source": [
    "# reddit_data_df = reddit_data_df.drop(columns=['id', 'score','author','author_flair_text','removed_by','total_awards_received','awarders','created_utc','full_link','over_18'])\n",
    "# reddit_data_df = reddit_data_df.drop(columns=['id', 'score','author','author_flair_text','removed_by','total_awards_received','awarders','created_utc','full_link','over_18','Unnamed: 13'])"
   ]
  },
  {
   "cell_type": "code",
   "execution_count": 6,
   "metadata": {},
   "outputs": [],
   "source": [
    "# Fix data types\n",
    "reddit_data_df[['num_comments']] = reddit_data_df[['num_comments']].astype(float)"
   ]
  },
  {
   "cell_type": "code",
   "execution_count": 7,
   "metadata": {},
   "outputs": [
    {
     "name": "stdout",
     "output_type": "stream",
     "text": [
      "title            object\n",
      "num_comments    float64\n",
      "Date Stamp       object\n",
      "dtype: object\n"
     ]
    }
   ],
   "source": [
    "# Check data again\n",
    "print(reddit_data_df.dtypes)"
   ]
  },
  {
   "cell_type": "code",
   "execution_count": 8,
   "metadata": {},
   "outputs": [
    {
     "data": {
      "text/plain": [
       "title            object\n",
       "num_comments    float64\n",
       "Date Stamp       object\n",
       "dtype: object"
      ]
     },
     "execution_count": 8,
     "metadata": {},
     "output_type": "execute_result"
    }
   ],
   "source": [
    "reddit_data_df.dtypes"
   ]
  },
  {
   "cell_type": "code",
   "execution_count": 9,
   "metadata": {},
   "outputs": [],
   "source": [
    "# Create lags and differentials \n",
    "for i in range(0, len(reddit_data_df)):\n",
    "# for i in range(0, 10):\n",
    "    reddit_data_df.loc[i, 'Reddit_Date']     = datetime.datetime.strptime((reddit_data_df.loc[i,\"Date Stamp\"]),'%m/%d/%y %H:%M %p').date()\n",
    "    #reddit_data_df.loc[i, 'Reddit_Date']     = datetime.datetime.strptime((reddit_data_df.loc[i,\"Date Stamp\"]),'%m/%d/%Y %H:%M').date()\n",
    "    reddit_data_df.loc[i, 'Reddit_Total']    = reddit_data_df.loc[i,\"num_comments\"] + 1\n",
    "    try:\n",
    "        reddit_data_df.loc[i, 'title']           = reddit_data_df.loc[i,'title'].lower()\n",
    "    except AttributeError:\n",
    "        reddit_data_df.loc[i, 'title'] = \"NaN\""
   ]
  },
  {
   "cell_type": "code",
   "execution_count": 10,
   "metadata": {},
   "outputs": [
    {
     "data": {
      "text/html": [
       "<div>\n",
       "<style scoped>\n",
       "    .dataframe tbody tr th:only-of-type {\n",
       "        vertical-align: middle;\n",
       "    }\n",
       "\n",
       "    .dataframe tbody tr th {\n",
       "        vertical-align: top;\n",
       "    }\n",
       "\n",
       "    .dataframe thead th {\n",
       "        text-align: right;\n",
       "    }\n",
       "</style>\n",
       "<table border=\"1\" class=\"dataframe\">\n",
       "  <thead>\n",
       "    <tr style=\"text-align: right;\">\n",
       "      <th></th>\n",
       "      <th>title</th>\n",
       "      <th>num_comments</th>\n",
       "      <th>Date Stamp</th>\n",
       "      <th>Reddit_Date</th>\n",
       "      <th>Reddit_Total</th>\n",
       "    </tr>\n",
       "  </thead>\n",
       "  <tbody>\n",
       "    <tr>\n",
       "      <th>0</th>\n",
       "      <td>are you guys idiots? the sub has been brigaded...</td>\n",
       "      <td>0.0</td>\n",
       "      <td>1/31/21 9:10 AM</td>\n",
       "      <td>2021-01-31</td>\n",
       "      <td>1.0</td>\n",
       "    </tr>\n",
       "    <tr>\n",
       "      <th>1</th>\n",
       "      <td>your game stops here!!</td>\n",
       "      <td>0.0</td>\n",
       "      <td>1/31/21 9:10 AM</td>\n",
       "      <td>2021-01-31</td>\n",
       "      <td>1.0</td>\n",
       "    </tr>\n",
       "    <tr>\n",
       "      <th>2</th>\n",
       "      <td>u/deepfuckingvalue dropping knowledge on the sub</td>\n",
       "      <td>0.0</td>\n",
       "      <td>1/31/21 9:10 AM</td>\n",
       "      <td>2021-01-31</td>\n",
       "      <td>1.0</td>\n",
       "    </tr>\n",
       "    <tr>\n",
       "      <th>3</th>\n",
       "      <td>they'll learn, give them time</td>\n",
       "      <td>0.0</td>\n",
       "      <td>1/31/21 9:10 AM</td>\n",
       "      <td>2021-01-31</td>\n",
       "      <td>1.0</td>\n",
       "    </tr>\n",
       "    <tr>\n",
       "      <th>4</th>\n",
       "      <td>invest - stocks</td>\n",
       "      <td>0.0</td>\n",
       "      <td>1/31/21 9:10 AM</td>\n",
       "      <td>2021-01-31</td>\n",
       "      <td>1.0</td>\n",
       "    </tr>\n",
       "    <tr>\n",
       "      <th>...</th>\n",
       "      <td>...</td>\n",
       "      <td>...</td>\n",
       "      <td>...</td>\n",
       "      <td>...</td>\n",
       "      <td>...</td>\n",
       "    </tr>\n",
       "    <tr>\n",
       "      <th>368466</th>\n",
       "      <td>wsbvotebot log for dec 01 2020</td>\n",
       "      <td>127.0</td>\n",
       "      <td>12/1/20 12:01 AM</td>\n",
       "      <td>2020-12-01</td>\n",
       "      <td>128.0</td>\n",
       "    </tr>\n",
       "    <tr>\n",
       "      <th>368467</th>\n",
       "      <td>cannabis vote</td>\n",
       "      <td>5.0</td>\n",
       "      <td>12/1/20 12:01 AM</td>\n",
       "      <td>2020-12-01</td>\n",
       "      <td>6.0</td>\n",
       "    </tr>\n",
       "    <tr>\n",
       "      <th>368468</th>\n",
       "      <td>how to get into stocks as a poor/broke person.</td>\n",
       "      <td>11.0</td>\n",
       "      <td>12/1/20 12:00 AM</td>\n",
       "      <td>2020-12-01</td>\n",
       "      <td>12.0</td>\n",
       "    </tr>\n",
       "    <tr>\n",
       "      <th>368469</th>\n",
       "      <td>onto something new</td>\n",
       "      <td>0.0</td>\n",
       "      <td>12/1/20 12:00 AM</td>\n",
       "      <td>2020-12-01</td>\n",
       "      <td>1.0</td>\n",
       "    </tr>\n",
       "    <tr>\n",
       "      <th>368470</th>\n",
       "      <td>most of y'all here</td>\n",
       "      <td>0.0</td>\n",
       "      <td>11/30/20 11:59 PM</td>\n",
       "      <td>2020-11-30</td>\n",
       "      <td>1.0</td>\n",
       "    </tr>\n",
       "  </tbody>\n",
       "</table>\n",
       "<p>368471 rows × 5 columns</p>\n",
       "</div>"
      ],
      "text/plain": [
       "                                                    title  num_comments  \\\n",
       "0       are you guys idiots? the sub has been brigaded...           0.0   \n",
       "1                                  your game stops here!!           0.0   \n",
       "2        u/deepfuckingvalue dropping knowledge on the sub           0.0   \n",
       "3                           they'll learn, give them time           0.0   \n",
       "4                                         invest - stocks           0.0   \n",
       "...                                                   ...           ...   \n",
       "368466                     wsbvotebot log for dec 01 2020         127.0   \n",
       "368467                                      cannabis vote           5.0   \n",
       "368468     how to get into stocks as a poor/broke person.          11.0   \n",
       "368469                                 onto something new           0.0   \n",
       "368470                                 most of y'all here           0.0   \n",
       "\n",
       "               Date Stamp Reddit_Date  Reddit_Total  \n",
       "0         1/31/21 9:10 AM  2021-01-31           1.0  \n",
       "1         1/31/21 9:10 AM  2021-01-31           1.0  \n",
       "2         1/31/21 9:10 AM  2021-01-31           1.0  \n",
       "3         1/31/21 9:10 AM  2021-01-31           1.0  \n",
       "4         1/31/21 9:10 AM  2021-01-31           1.0  \n",
       "...                   ...         ...           ...  \n",
       "368466   12/1/20 12:01 AM  2020-12-01         128.0  \n",
       "368467   12/1/20 12:01 AM  2020-12-01           6.0  \n",
       "368468   12/1/20 12:00 AM  2020-12-01          12.0  \n",
       "368469   12/1/20 12:00 AM  2020-12-01           1.0  \n",
       "368470  11/30/20 11:59 PM  2020-11-30           1.0  \n",
       "\n",
       "[368471 rows x 5 columns]"
      ]
     },
     "execution_count": 10,
     "metadata": {},
     "output_type": "execute_result"
    }
   ],
   "source": [
    "reddit_data_df"
   ]
  },
  {
   "cell_type": "code",
   "execution_count": 11,
   "metadata": {},
   "outputs": [],
   "source": [
    "# Set Start_Date\n",
    "# Start_Date = datetime.datetime.strptime('2020-12-01', '%Y-%m-%d')\n",
    "reddit_data_df[\"Reddit_Date\"] = pd.to_datetime(reddit_data_df[\"Reddit_Date\"])\n",
    "Reddit_Test = reddit_data_df.set_index(\"Reddit_Date\")\n",
    "# [parser.parse(reddit_data_df[\"Reddit_Date\"]) >= parser.parse(\"09/01/2020\")]\n",
    "# reddit_dates_df = Reddit_Test[Start_Date :] "
   ]
  },
  {
   "cell_type": "code",
   "execution_count": 12,
   "metadata": {},
   "outputs": [],
   "source": [
    "reddit_dates_df  = Reddit_Test"
   ]
  },
  {
   "cell_type": "code",
   "execution_count": 13,
   "metadata": {},
   "outputs": [],
   "source": [
    "DataFrame_File_CSV = 'Reddit_data_df_CSV_Output.csv'\n",
    "Output_CSV_Path = os.path.join(Output_Data_Path_Folder,DataFrame_File_CSV)\n",
    "\n",
    "# Open the data file with write capabilities\n",
    "Reddit_Test.to_csv(Output_CSV_Path, index = False)"
   ]
  },
  {
   "cell_type": "code",
   "execution_count": 14,
   "metadata": {},
   "outputs": [
    {
     "name": "stdout",
     "output_type": "stream",
     "text": [
      "                                                         title  num_comments  \\\n",
      "Reddit_Date                                                                    \n",
      "2021-01-31   are you guys idiots? the sub has been brigaded...           0.0   \n",
      "2021-01-31                              your game stops here!!           0.0   \n",
      "2021-01-31    u/deepfuckingvalue dropping knowledge on the sub           0.0   \n",
      "2021-01-31                       they'll learn, give them time           0.0   \n",
      "2021-01-31                                     invest - stocks           0.0   \n",
      "...                                                        ...           ...   \n",
      "2020-12-01                      wsbvotebot log for dec 01 2020         127.0   \n",
      "2020-12-01                                       cannabis vote           5.0   \n",
      "2020-12-01      how to get into stocks as a poor/broke person.          11.0   \n",
      "2020-12-01                                  onto something new           0.0   \n",
      "2020-11-30                                  most of y'all here           0.0   \n",
      "\n",
      "                    Date Stamp  Reddit_Total  \n",
      "Reddit_Date                                   \n",
      "2021-01-31     1/31/21 9:10 AM           1.0  \n",
      "2021-01-31     1/31/21 9:10 AM           1.0  \n",
      "2021-01-31     1/31/21 9:10 AM           1.0  \n",
      "2021-01-31     1/31/21 9:10 AM           1.0  \n",
      "2021-01-31     1/31/21 9:10 AM           1.0  \n",
      "...                        ...           ...  \n",
      "2020-12-01    12/1/20 12:01 AM         128.0  \n",
      "2020-12-01    12/1/20 12:01 AM           6.0  \n",
      "2020-12-01    12/1/20 12:00 AM          12.0  \n",
      "2020-12-01    12/1/20 12:00 AM           1.0  \n",
      "2020-11-30   11/30/20 11:59 PM           1.0  \n",
      "\n",
      "[368471 rows x 4 columns]\n"
     ]
    }
   ],
   "source": [
    "print(reddit_dates_df)"
   ]
  },
  {
   "cell_type": "code",
   "execution_count": 15,
   "metadata": {},
   "outputs": [],
   "source": [
    "### GOOD CODE - ASSIGN TAG COUNTS\n",
    "substr = ('gme', 'gamestop', 'game', 'squeeze', 'melvin' )\n",
    "reddit_dates_df['tag_count'] = reddit_dates_df['title'].str.findall('|'.join(substr)).str.len()"
   ]
  },
  {
   "cell_type": "code",
   "execution_count": 16,
   "metadata": {},
   "outputs": [
    {
     "data": {
      "text/plain": [
       "title           368471\n",
       "num_comments    368471\n",
       "Date Stamp      368471\n",
       "Reddit_Total    368471\n",
       "tag_count       368471\n",
       "dtype: int64"
      ]
     },
     "execution_count": 16,
     "metadata": {},
     "output_type": "execute_result"
    }
   ],
   "source": [
    "reddit_dates_df.count()"
   ]
  },
  {
   "cell_type": "code",
   "execution_count": 17,
   "metadata": {},
   "outputs": [
    {
     "data": {
      "text/plain": [
       "title           74815\n",
       "num_comments    74815\n",
       "Date Stamp      74815\n",
       "Reddit_Total    74815\n",
       "tag_count       74815\n",
       "dtype: int64"
      ]
     },
     "execution_count": 17,
     "metadata": {},
     "output_type": "execute_result"
    }
   ],
   "source": [
    "# Reddit_of_Interest = reddit_data_df[((reddit_data_df['tag_count']) > 0) & (reddit_data_df[(reddit_data_df[\"Reddit_Date\"])] >= Date_Limit)]\n",
    "Reddit_of_Interest_df = reddit_dates_df[((reddit_dates_df['tag_count']) > 0)] \n",
    "\n",
    "Reddit_of_Interest_df.count()"
   ]
  },
  {
   "cell_type": "code",
   "execution_count": 18,
   "metadata": {},
   "outputs": [],
   "source": [
    "# print(reddit_data_df[['title', 'tag_count']])\n",
    "# Set Path to the output file in the analysis folder\n",
    "DataFrame_File_CSV = 'reddit_data_with_tag_counts.csv'\n",
    "Output_CSV_Path = os.path.join(Output_Data_Path_Folder,DataFrame_File_CSV)\n",
    "\n",
    "# Open the data file with write capabilities\n",
    "Reddit_of_Interest_df.to_csv(Output_CSV_Path, index = False)"
   ]
  },
  {
   "cell_type": "code",
   "execution_count": 19,
   "metadata": {},
   "outputs": [],
   "source": [
    "Reddit_Analysis_df = pd.DataFrame(Reddit_of_Interest_df.groupby('Reddit_Date')['Reddit_Total'].sum())"
   ]
  },
  {
   "cell_type": "code",
   "execution_count": 20,
   "metadata": {},
   "outputs": [
    {
     "data": {
      "text/html": [
       "<div>\n",
       "<style scoped>\n",
       "    .dataframe tbody tr th:only-of-type {\n",
       "        vertical-align: middle;\n",
       "    }\n",
       "\n",
       "    .dataframe tbody tr th {\n",
       "        vertical-align: top;\n",
       "    }\n",
       "\n",
       "    .dataframe thead th {\n",
       "        text-align: right;\n",
       "    }\n",
       "</style>\n",
       "<table border=\"1\" class=\"dataframe\">\n",
       "  <thead>\n",
       "    <tr style=\"text-align: right;\">\n",
       "      <th></th>\n",
       "      <th>Reddit_Total</th>\n",
       "    </tr>\n",
       "    <tr>\n",
       "      <th>Reddit_Date</th>\n",
       "      <th></th>\n",
       "    </tr>\n",
       "  </thead>\n",
       "  <tbody>\n",
       "    <tr>\n",
       "      <th>2020-12-01</th>\n",
       "      <td>3071.0</td>\n",
       "    </tr>\n",
       "    <tr>\n",
       "      <th>2020-12-02</th>\n",
       "      <td>1709.0</td>\n",
       "    </tr>\n",
       "    <tr>\n",
       "      <th>2020-12-03</th>\n",
       "      <td>704.0</td>\n",
       "    </tr>\n",
       "    <tr>\n",
       "      <th>2020-12-04</th>\n",
       "      <td>1523.0</td>\n",
       "    </tr>\n",
       "    <tr>\n",
       "      <th>2020-12-05</th>\n",
       "      <td>1060.0</td>\n",
       "    </tr>\n",
       "    <tr>\n",
       "      <th>...</th>\n",
       "      <td>...</td>\n",
       "    </tr>\n",
       "    <tr>\n",
       "      <th>2021-01-27</th>\n",
       "      <td>364931.0</td>\n",
       "    </tr>\n",
       "    <tr>\n",
       "      <th>2021-01-28</th>\n",
       "      <td>413739.0</td>\n",
       "    </tr>\n",
       "    <tr>\n",
       "      <th>2021-01-29</th>\n",
       "      <td>483054.0</td>\n",
       "    </tr>\n",
       "    <tr>\n",
       "      <th>2021-01-30</th>\n",
       "      <td>107928.0</td>\n",
       "    </tr>\n",
       "    <tr>\n",
       "      <th>2021-01-31</th>\n",
       "      <td>4405.0</td>\n",
       "    </tr>\n",
       "  </tbody>\n",
       "</table>\n",
       "<p>62 rows × 1 columns</p>\n",
       "</div>"
      ],
      "text/plain": [
       "             Reddit_Total\n",
       "Reddit_Date              \n",
       "2020-12-01         3071.0\n",
       "2020-12-02         1709.0\n",
       "2020-12-03          704.0\n",
       "2020-12-04         1523.0\n",
       "2020-12-05         1060.0\n",
       "...                   ...\n",
       "2021-01-27       364931.0\n",
       "2021-01-28       413739.0\n",
       "2021-01-29       483054.0\n",
       "2021-01-30       107928.0\n",
       "2021-01-31         4405.0\n",
       "\n",
       "[62 rows x 1 columns]"
      ]
     },
     "execution_count": 20,
     "metadata": {},
     "output_type": "execute_result"
    }
   ],
   "source": [
    "Reddit_Analysis_df"
   ]
  },
  {
   "cell_type": "code",
   "execution_count": 22,
   "metadata": {},
   "outputs": [
    {
     "name": "stdout",
     "output_type": "stream",
     "text": [
      "Bar graph for Reddit Posts by Date\n",
      "\n",
      "\n"
     ]
    },
    {
     "data": {
      "image/png": "[encoded data removed]",
      "text/plain": [
       "<Figure size 432x288 with 1 Axes>"
      ]
     },
     "metadata": {
      "needs_background": "light"
     },
     "output_type": "display_data"
    }
   ],
   "source": [
    "# Plot Stock information by Date\n",
    "print(f\"Bar graph for Reddit Posts by Date\\n\\n\") \n",
    "Reddit_Data_Graph = Reddit_Analysis_df.plot(y=\"Reddit_Total\", title=f\"Reddit Comments by Date\")\n",
    "# Reddit_Data_Graph = Reddit_Analysis_df.plot(x='Reddit_Date', y=\"Reddit_Total\", title=f\"Reddit Comments by Date\")\n",
    "\n",
    "# Write out to png file\n",
    "plt.savefig(os.path.join(Output_Data_Path_Folder,'Reddit_Msg_By_Date.png'))\n",
    "plt.show()"
   ]
  },
  {
   "cell_type": "code",
   "execution_count": null,
   "metadata": {},
   "outputs": [],
   "source": []
  },
  {
   "cell_type": "code",
   "execution_count": null,
   "metadata": {},
   "outputs": [],
   "source": [
    "    "
   ]
  },
  {
   "cell_type": "code",
   "execution_count": null,
   "metadata": {},
   "outputs": [],
   "source": []
  },
  {
   "cell_type": "code",
   "execution_count": null,
   "metadata": {},
   "outputs": [],
   "source": []
  },
  {
   "cell_type": "code",
   "execution_count": null,
   "metadata": {},
   "outputs": [],
   "source": []
  },
  {
   "cell_type": "code",
   "execution_count": null,
   "metadata": {},
   "outputs": [],
   "source": []
  },
  {
   "cell_type": "code",
   "execution_count": null,
   "metadata": {},
   "outputs": [],
   "source": []
  },
  {
   "cell_type": "code",
   "execution_count": null,
   "metadata": {},
   "outputs": [],
   "source": []
  },
  {
   "cell_type": "code",
   "execution_count": null,
   "metadata": {},
   "outputs": [],
   "source": []
  },
  {
   "cell_type": "code",
   "execution_count": null,
   "metadata": {},
   "outputs": [],
   "source": []
  },
  {
   "cell_type": "code",
   "execution_count": null,
   "metadata": {},
   "outputs": [],
   "source": []
  },
  {
   "cell_type": "code",
   "execution_count": null,
   "metadata": {},
   "outputs": [],
   "source": []
  },
  {
   "cell_type": "code",
   "execution_count": null,
   "metadata": {},
   "outputs": [],
   "source": []
  },
  {
   "cell_type": "code",
   "execution_count": null,
   "metadata": {},
   "outputs": [],
   "source": []
  },
  {
   "cell_type": "code",
   "execution_count": null,
   "metadata": {},
   "outputs": [],
   "source": []
  }
 ],
 "metadata": {
  "kernelspec": {
   "display_name": "Python 3",
   "language": "python",
   "name": "python3"
  },
  "language_info": {
   "codemirror_mode": {
    "name": "ipython",
    "version": 3
   },
   "file_extension": ".py",
   "mimetype": "text/x-python",
   "name": "python",
   "nbconvert_exporter": "python",
   "pygments_lexer": "ipython3",
   "version": "3.6.10"
  }
 },
 "nbformat": 4,
 "nbformat_minor": 4
}
